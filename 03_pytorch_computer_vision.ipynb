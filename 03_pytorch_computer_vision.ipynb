{
 "cells": [
  {
   "cell_type": "markdown",
   "id": "dec1260689ed462a",
   "metadata": {},
   "source": [
    "# 0. Computer vision libraries in Pytorch\n",
    "\n",
    "* `torchvision` - Base domain library for Pytorch computer Vision\n",
    "* `torchvision.datasets` - get datasets and data loading function for computer vision\n",
    "* `torchvision.models` - get pretrained computer vision models that we can leverage\n",
    "* `torchvision.transforms` - functions for manipulating our vision data to be suitable to use with our ML model\n",
    "* `torch.utils.data.Dataset` - Base dataset class for Pytorch\n",
    "* `torch.utils.data.Dataloader` - Create a Python iterable over a dataset"
   ]
  },
  {
   "cell_type": "code",
   "id": "2ebec2305fd7fdaa",
   "metadata": {
    "ExecuteTime": {
     "end_time": "2024-12-16T14:50:31.605155Z",
     "start_time": "2024-12-16T14:50:24.973144Z"
    }
   },
   "source": [
    "# import pytorch\n",
    "import torch\n",
    "from torch import nn\n",
    "\n",
    "# import torchvision\n",
    "import torchvision\n",
    "from torchvision import datasets, transforms\n",
    "from torchvision.transforms import ToTensor\n",
    "\n",
    "# import matplotlib\n",
    "import  matplotlib.pyplot as plt\n",
    "\n",
    "# check version\n",
    "print(f'torch version: {torch.__version__}')\n",
    "print(f'torchvision version: {torchvision.__version__}')\n"
   ],
   "outputs": [
    {
     "name": "stdout",
     "output_type": "stream",
     "text": [
      "torch version: 2.5.1+cu124\n",
      "torchvision version: 0.20.1+cu124\n"
     ]
    }
   ],
   "execution_count": 1
  },
  {
   "cell_type": "markdown",
   "id": "719062f6f30e5277",
   "metadata": {},
   "source": [
    "# 1. Getting a dataset\n",
    "In this example, we will use Fashion MNIST from torchvision.dataset"
   ]
  },
  {
   "cell_type": "code",
   "id": "85e31943c0325080",
   "metadata": {
    "ExecuteTime": {
     "end_time": "2024-12-16T14:50:31.726254Z",
     "start_time": "2024-12-16T14:50:31.606678Z"
    }
   },
   "source": [
    "# Setup training data\n",
    "from torchvision import datasets\n",
    "train_data = datasets.FashionMNIST(\n",
    "    root='./data', # where to download the data\n",
    "    train=True, # set to False if we are about to create test_data\n",
    "    download=True, # whether we want to download the data\n",
    "    transform=ToTensor(), # how do we want to transform the data (in this case, we transform from PIL image to Tensor\n",
    "    target_transform=None # how to we want to transform the labels\n",
    ")\n",
    "\n",
    "test_data = datasets.FashionMNIST(\n",
    "    root='./data', # where to download the data\n",
    "    train=False, # set to False if we are about to create test_data\n",
    "    download=True, # whether we want to download the data\n",
    "    transform=ToTensor(), # how do we want to transform the data (in this case, we transform to Tensor\n",
    "    target_transform=None # how to we want to transform the labels\n",
    ")"
   ],
   "outputs": [],
   "execution_count": 2
  },
  {
   "cell_type": "code",
   "id": "f6cee47daf946e11",
   "metadata": {
    "ExecuteTime": {
     "end_time": "2024-12-16T14:50:31.736800Z",
     "start_time": "2024-12-16T14:50:31.727259Z"
    }
   },
   "source": [
    "len(train_data), len(test_data)"
   ],
   "outputs": [
    {
     "data": {
      "text/plain": [
       "(60000, 10000)"
      ]
     },
     "execution_count": 3,
     "metadata": {},
     "output_type": "execute_result"
    }
   ],
   "execution_count": 3
  },
  {
   "cell_type": "markdown",
   "id": "532b548bf0e9fb48",
   "metadata": {},
   "source": [
    "## 1.1. Check the input and output shape of data"
   ]
  },
  {
   "cell_type": "code",
   "id": "712c17f67cc209a8",
   "metadata": {
    "ExecuteTime": {
     "end_time": "2024-12-16T14:50:31.790086Z",
     "start_time": "2024-12-16T14:50:31.738808Z"
    }
   },
   "source": [
    "# see the first training example\n",
    "image, label = train_data[0]\n",
    "image, label"
   ],
   "outputs": [
    {
     "data": {
      "text/plain": [
       "(tensor([[[0.0000, 0.0000, 0.0000, 0.0000, 0.0000, 0.0000, 0.0000, 0.0000,\n",
       "           0.0000, 0.0000, 0.0000, 0.0000, 0.0000, 0.0000, 0.0000, 0.0000,\n",
       "           0.0000, 0.0000, 0.0000, 0.0000, 0.0000, 0.0000, 0.0000, 0.0000,\n",
       "           0.0000, 0.0000, 0.0000, 0.0000],\n",
       "          [0.0000, 0.0000, 0.0000, 0.0000, 0.0000, 0.0000, 0.0000, 0.0000,\n",
       "           0.0000, 0.0000, 0.0000, 0.0000, 0.0000, 0.0000, 0.0000, 0.0000,\n",
       "           0.0000, 0.0000, 0.0000, 0.0000, 0.0000, 0.0000, 0.0000, 0.0000,\n",
       "           0.0000, 0.0000, 0.0000, 0.0000],\n",
       "          [0.0000, 0.0000, 0.0000, 0.0000, 0.0000, 0.0000, 0.0000, 0.0000,\n",
       "           0.0000, 0.0000, 0.0000, 0.0000, 0.0000, 0.0000, 0.0000, 0.0000,\n",
       "           0.0000, 0.0000, 0.0000, 0.0000, 0.0000, 0.0000, 0.0000, 0.0000,\n",
       "           0.0000, 0.0000, 0.0000, 0.0000],\n",
       "          [0.0000, 0.0000, 0.0000, 0.0000, 0.0000, 0.0000, 0.0000, 0.0000,\n",
       "           0.0000, 0.0000, 0.0000, 0.0000, 0.0039, 0.0000, 0.0000, 0.0510,\n",
       "           0.2863, 0.0000, 0.0000, 0.0039, 0.0157, 0.0000, 0.0000, 0.0000,\n",
       "           0.0000, 0.0039, 0.0039, 0.0000],\n",
       "          [0.0000, 0.0000, 0.0000, 0.0000, 0.0000, 0.0000, 0.0000, 0.0000,\n",
       "           0.0000, 0.0000, 0.0000, 0.0000, 0.0118, 0.0000, 0.1412, 0.5333,\n",
       "           0.4980, 0.2431, 0.2118, 0.0000, 0.0000, 0.0000, 0.0039, 0.0118,\n",
       "           0.0157, 0.0000, 0.0000, 0.0118],\n",
       "          [0.0000, 0.0000, 0.0000, 0.0000, 0.0000, 0.0000, 0.0000, 0.0000,\n",
       "           0.0000, 0.0000, 0.0000, 0.0000, 0.0235, 0.0000, 0.4000, 0.8000,\n",
       "           0.6902, 0.5255, 0.5647, 0.4824, 0.0902, 0.0000, 0.0000, 0.0000,\n",
       "           0.0000, 0.0471, 0.0392, 0.0000],\n",
       "          [0.0000, 0.0000, 0.0000, 0.0000, 0.0000, 0.0000, 0.0000, 0.0000,\n",
       "           0.0000, 0.0000, 0.0000, 0.0000, 0.0000, 0.0000, 0.6078, 0.9255,\n",
       "           0.8118, 0.6980, 0.4196, 0.6118, 0.6314, 0.4275, 0.2510, 0.0902,\n",
       "           0.3020, 0.5098, 0.2824, 0.0588],\n",
       "          [0.0000, 0.0000, 0.0000, 0.0000, 0.0000, 0.0000, 0.0000, 0.0000,\n",
       "           0.0000, 0.0000, 0.0000, 0.0039, 0.0000, 0.2706, 0.8118, 0.8745,\n",
       "           0.8549, 0.8471, 0.8471, 0.6392, 0.4980, 0.4745, 0.4784, 0.5725,\n",
       "           0.5529, 0.3451, 0.6745, 0.2588],\n",
       "          [0.0000, 0.0000, 0.0000, 0.0000, 0.0000, 0.0000, 0.0000, 0.0000,\n",
       "           0.0000, 0.0039, 0.0039, 0.0039, 0.0000, 0.7843, 0.9098, 0.9098,\n",
       "           0.9137, 0.8980, 0.8745, 0.8745, 0.8431, 0.8353, 0.6431, 0.4980,\n",
       "           0.4824, 0.7686, 0.8980, 0.0000],\n",
       "          [0.0000, 0.0000, 0.0000, 0.0000, 0.0000, 0.0000, 0.0000, 0.0000,\n",
       "           0.0000, 0.0000, 0.0000, 0.0000, 0.0000, 0.7176, 0.8824, 0.8471,\n",
       "           0.8745, 0.8941, 0.9216, 0.8902, 0.8784, 0.8706, 0.8784, 0.8667,\n",
       "           0.8745, 0.9608, 0.6784, 0.0000],\n",
       "          [0.0000, 0.0000, 0.0000, 0.0000, 0.0000, 0.0000, 0.0000, 0.0000,\n",
       "           0.0000, 0.0000, 0.0000, 0.0000, 0.0000, 0.7569, 0.8941, 0.8549,\n",
       "           0.8353, 0.7765, 0.7059, 0.8314, 0.8235, 0.8275, 0.8353, 0.8745,\n",
       "           0.8627, 0.9529, 0.7922, 0.0000],\n",
       "          [0.0000, 0.0000, 0.0000, 0.0000, 0.0000, 0.0000, 0.0000, 0.0000,\n",
       "           0.0000, 0.0039, 0.0118, 0.0000, 0.0471, 0.8588, 0.8627, 0.8314,\n",
       "           0.8549, 0.7529, 0.6627, 0.8902, 0.8157, 0.8549, 0.8784, 0.8314,\n",
       "           0.8863, 0.7725, 0.8196, 0.2039],\n",
       "          [0.0000, 0.0000, 0.0000, 0.0000, 0.0000, 0.0000, 0.0000, 0.0000,\n",
       "           0.0000, 0.0000, 0.0235, 0.0000, 0.3882, 0.9569, 0.8706, 0.8627,\n",
       "           0.8549, 0.7961, 0.7765, 0.8667, 0.8431, 0.8353, 0.8706, 0.8627,\n",
       "           0.9608, 0.4667, 0.6549, 0.2196],\n",
       "          [0.0000, 0.0000, 0.0000, 0.0000, 0.0000, 0.0000, 0.0000, 0.0000,\n",
       "           0.0000, 0.0157, 0.0000, 0.0000, 0.2157, 0.9255, 0.8941, 0.9020,\n",
       "           0.8941, 0.9412, 0.9098, 0.8353, 0.8549, 0.8745, 0.9176, 0.8510,\n",
       "           0.8510, 0.8196, 0.3608, 0.0000],\n",
       "          [0.0000, 0.0000, 0.0039, 0.0157, 0.0235, 0.0275, 0.0078, 0.0000,\n",
       "           0.0000, 0.0000, 0.0000, 0.0000, 0.9294, 0.8863, 0.8510, 0.8745,\n",
       "           0.8706, 0.8588, 0.8706, 0.8667, 0.8471, 0.8745, 0.8980, 0.8431,\n",
       "           0.8549, 1.0000, 0.3020, 0.0000],\n",
       "          [0.0000, 0.0118, 0.0000, 0.0000, 0.0000, 0.0000, 0.0000, 0.0000,\n",
       "           0.0000, 0.2431, 0.5686, 0.8000, 0.8941, 0.8118, 0.8353, 0.8667,\n",
       "           0.8549, 0.8157, 0.8275, 0.8549, 0.8784, 0.8745, 0.8588, 0.8431,\n",
       "           0.8784, 0.9569, 0.6235, 0.0000],\n",
       "          [0.0000, 0.0000, 0.0000, 0.0000, 0.0706, 0.1725, 0.3216, 0.4196,\n",
       "           0.7412, 0.8941, 0.8627, 0.8706, 0.8510, 0.8863, 0.7843, 0.8039,\n",
       "           0.8275, 0.9020, 0.8784, 0.9176, 0.6902, 0.7373, 0.9804, 0.9725,\n",
       "           0.9137, 0.9333, 0.8431, 0.0000],\n",
       "          [0.0000, 0.2235, 0.7333, 0.8157, 0.8784, 0.8667, 0.8784, 0.8157,\n",
       "           0.8000, 0.8392, 0.8157, 0.8196, 0.7843, 0.6235, 0.9608, 0.7569,\n",
       "           0.8078, 0.8745, 1.0000, 1.0000, 0.8667, 0.9176, 0.8667, 0.8275,\n",
       "           0.8627, 0.9098, 0.9647, 0.0000],\n",
       "          [0.0118, 0.7922, 0.8941, 0.8784, 0.8667, 0.8275, 0.8275, 0.8392,\n",
       "           0.8039, 0.8039, 0.8039, 0.8627, 0.9412, 0.3137, 0.5882, 1.0000,\n",
       "           0.8980, 0.8667, 0.7373, 0.6039, 0.7490, 0.8235, 0.8000, 0.8196,\n",
       "           0.8706, 0.8941, 0.8824, 0.0000],\n",
       "          [0.3843, 0.9137, 0.7765, 0.8235, 0.8706, 0.8980, 0.8980, 0.9176,\n",
       "           0.9765, 0.8627, 0.7608, 0.8431, 0.8510, 0.9451, 0.2549, 0.2863,\n",
       "           0.4157, 0.4588, 0.6588, 0.8588, 0.8667, 0.8431, 0.8510, 0.8745,\n",
       "           0.8745, 0.8784, 0.8980, 0.1137],\n",
       "          [0.2941, 0.8000, 0.8314, 0.8000, 0.7569, 0.8039, 0.8275, 0.8824,\n",
       "           0.8471, 0.7255, 0.7725, 0.8078, 0.7765, 0.8353, 0.9412, 0.7647,\n",
       "           0.8902, 0.9608, 0.9373, 0.8745, 0.8549, 0.8314, 0.8196, 0.8706,\n",
       "           0.8627, 0.8667, 0.9020, 0.2627],\n",
       "          [0.1882, 0.7961, 0.7176, 0.7608, 0.8353, 0.7725, 0.7255, 0.7451,\n",
       "           0.7608, 0.7529, 0.7922, 0.8392, 0.8588, 0.8667, 0.8627, 0.9255,\n",
       "           0.8824, 0.8471, 0.7804, 0.8078, 0.7294, 0.7098, 0.6941, 0.6745,\n",
       "           0.7098, 0.8039, 0.8078, 0.4510],\n",
       "          [0.0000, 0.4784, 0.8588, 0.7569, 0.7020, 0.6706, 0.7176, 0.7686,\n",
       "           0.8000, 0.8235, 0.8353, 0.8118, 0.8275, 0.8235, 0.7843, 0.7686,\n",
       "           0.7608, 0.7490, 0.7647, 0.7490, 0.7765, 0.7529, 0.6902, 0.6118,\n",
       "           0.6549, 0.6941, 0.8235, 0.3608],\n",
       "          [0.0000, 0.0000, 0.2902, 0.7412, 0.8314, 0.7490, 0.6863, 0.6745,\n",
       "           0.6863, 0.7098, 0.7255, 0.7373, 0.7412, 0.7373, 0.7569, 0.7765,\n",
       "           0.8000, 0.8196, 0.8235, 0.8235, 0.8275, 0.7373, 0.7373, 0.7608,\n",
       "           0.7529, 0.8471, 0.6667, 0.0000],\n",
       "          [0.0078, 0.0000, 0.0000, 0.0000, 0.2588, 0.7843, 0.8706, 0.9294,\n",
       "           0.9373, 0.9490, 0.9647, 0.9529, 0.9569, 0.8667, 0.8627, 0.7569,\n",
       "           0.7490, 0.7020, 0.7137, 0.7137, 0.7098, 0.6902, 0.6510, 0.6588,\n",
       "           0.3882, 0.2275, 0.0000, 0.0000],\n",
       "          [0.0000, 0.0000, 0.0000, 0.0000, 0.0000, 0.0000, 0.0000, 0.1569,\n",
       "           0.2392, 0.1725, 0.2824, 0.1608, 0.1373, 0.0000, 0.0000, 0.0000,\n",
       "           0.0000, 0.0000, 0.0000, 0.0000, 0.0000, 0.0000, 0.0000, 0.0000,\n",
       "           0.0000, 0.0000, 0.0000, 0.0000],\n",
       "          [0.0000, 0.0000, 0.0000, 0.0000, 0.0000, 0.0000, 0.0000, 0.0000,\n",
       "           0.0000, 0.0000, 0.0000, 0.0000, 0.0000, 0.0000, 0.0000, 0.0000,\n",
       "           0.0000, 0.0000, 0.0000, 0.0000, 0.0000, 0.0000, 0.0000, 0.0000,\n",
       "           0.0000, 0.0000, 0.0000, 0.0000],\n",
       "          [0.0000, 0.0000, 0.0000, 0.0000, 0.0000, 0.0000, 0.0000, 0.0000,\n",
       "           0.0000, 0.0000, 0.0000, 0.0000, 0.0000, 0.0000, 0.0000, 0.0000,\n",
       "           0.0000, 0.0000, 0.0000, 0.0000, 0.0000, 0.0000, 0.0000, 0.0000,\n",
       "           0.0000, 0.0000, 0.0000, 0.0000]]]),\n",
       " 9)"
      ]
     },
     "execution_count": 4,
     "metadata": {},
     "output_type": "execute_result"
    }
   ],
   "execution_count": 4
  },
  {
   "cell_type": "code",
   "id": "b6be736ad3f28f8a",
   "metadata": {
    "ExecuteTime": {
     "end_time": "2024-12-16T14:50:31.798493Z",
     "start_time": "2024-12-16T14:50:31.792092Z"
    }
   },
   "source": [
    "# see all the labels\n",
    "class_names = train_data.classes\n",
    "class_to_idx = train_data.class_to_idx\n",
    "class_names, class_to_idx"
   ],
   "outputs": [
    {
     "data": {
      "text/plain": [
       "(['T-shirt/top',\n",
       "  'Trouser',\n",
       "  'Pullover',\n",
       "  'Dress',\n",
       "  'Coat',\n",
       "  'Sandal',\n",
       "  'Shirt',\n",
       "  'Sneaker',\n",
       "  'Bag',\n",
       "  'Ankle boot'],\n",
       " {'T-shirt/top': 0,\n",
       "  'Trouser': 1,\n",
       "  'Pullover': 2,\n",
       "  'Dress': 3,\n",
       "  'Coat': 4,\n",
       "  'Sandal': 5,\n",
       "  'Shirt': 6,\n",
       "  'Sneaker': 7,\n",
       "  'Bag': 8,\n",
       "  'Ankle boot': 9})"
      ]
     },
     "execution_count": 5,
     "metadata": {},
     "output_type": "execute_result"
    }
   ],
   "execution_count": 5
  },
  {
   "cell_type": "code",
   "id": "5568e8476c4bce21",
   "metadata": {
    "ExecuteTime": {
     "end_time": "2024-12-16T14:50:31.806583Z",
     "start_time": "2024-12-16T14:50:31.799499Z"
    }
   },
   "source": [
    "# check the shape of our image\n",
    "print(f'Image shape: {image.shape} -> [color_channel, width,height]')\n",
    "print(f'Image label: {class_names[label]}')"
   ],
   "outputs": [
    {
     "name": "stdout",
     "output_type": "stream",
     "text": [
      "Image shape: torch.Size([1, 28, 28]) -> [color_channel, width,height]\n",
      "Image label: Ankle boot\n"
     ]
    }
   ],
   "execution_count": 6
  },
  {
   "cell_type": "markdown",
   "id": "61937f69683fcdf0",
   "metadata": {},
   "source": [
    "## 1.2. Visualizing the data"
   ]
  },
  {
   "cell_type": "code",
   "id": "a1ff72d95264902d",
   "metadata": {
    "ExecuteTime": {
     "end_time": "2024-12-16T14:50:31.815700Z",
     "start_time": "2024-12-16T14:50:31.807590Z"
    }
   },
   "source": [
    "import matplotlib.pyplot as plt\n",
    "image, label = train_data[0]\n",
    "print(f'Image shape: {image.shape}')"
   ],
   "outputs": [
    {
     "name": "stdout",
     "output_type": "stream",
     "text": [
      "Image shape: torch.Size([1, 28, 28])\n"
     ]
    }
   ],
   "execution_count": 7
  },
  {
   "cell_type": "code",
   "id": "b943a8d1c4d8fd24",
   "metadata": {
    "ExecuteTime": {
     "end_time": "2024-12-16T14:50:31.820949Z",
     "start_time": "2024-12-16T14:50:31.816706Z"
    }
   },
   "source": [
    "# This will raise error since the shape of the image is not compatible \n",
    "# plt.imshow(image)"
   ],
   "outputs": [],
   "execution_count": 8
  },
  {
   "cell_type": "code",
   "id": "a4e9393bdadf1a79",
   "metadata": {
    "ExecuteTime": {
     "end_time": "2024-12-16T14:50:32.012346Z",
     "start_time": "2024-12-16T14:50:31.821957Z"
    }
   },
   "source": [
    "plt.imshow(image.squeeze())\n",
    "plt.title(class_names[label])"
   ],
   "outputs": [
    {
     "data": {
      "text/plain": [
       "Text(0.5, 1.0, 'Ankle boot')"
      ]
     },
     "execution_count": 9,
     "metadata": {},
     "output_type": "execute_result"
    },
    {
     "data": {
      "text/plain": [
       "<Figure size 640x480 with 1 Axes>"
      ],
      "image/png": "[encoded data removed]"
     },
     "metadata": {},
     "output_type": "display_data"
    }
   ],
   "execution_count": 9
  },
  {
   "cell_type": "code",
   "id": "31ab6754154d25e5",
   "metadata": {
    "ExecuteTime": {
     "end_time": "2024-12-16T14:50:33.380049Z",
     "start_time": "2024-12-16T14:50:32.013355Z"
    }
   },
   "source": [
    "# plot more images\n",
    "torch.manual_seed(42)\n",
    "fig = plt.figure(figsize=(12,12))\n",
    "rows, cols = 4,4\n",
    "for i in range(1, rows*cols +1 ):\n",
    "    random_idx = torch.randint(0, len(train_data), size=[1]).item()\n",
    "    image, label = train_data[random_idx]\n",
    "    fig.add_subplot(rows,cols,i)\n",
    "    plt.imshow(image.squeeze(), cmap='gray')\n",
    "    plt.title(class_names[label])"
   ],
   "outputs": [
    {
     "data": {
      "text/plain": [
       "<Figure size 1200x1200 with 16 Axes>"
      ],
      "image/png": "[encoded data removed]"
     },
     "metadata": {},
     "output_type": "display_data"
    }
   ],
   "execution_count": 10
  },
  {
   "cell_type": "markdown",
   "id": "99012a46365dbf41",
   "metadata": {},
   "source": [
    "# 2. Prepare Dataloader"
   ]
  },
  {
   "cell_type": "code",
   "id": "22a0ef6343988d7",
   "metadata": {
    "ExecuteTime": {
     "end_time": "2024-12-16T14:50:33.385574Z",
     "start_time": "2024-12-16T14:50:33.381056Z"
    }
   },
   "source": [
    "train_data, test_data"
   ],
   "outputs": [
    {
     "data": {
      "text/plain": [
       "(Dataset FashionMNIST\n",
       "     Number of datapoints: 60000\n",
       "     Root location: ./data\n",
       "     Split: Train\n",
       "     StandardTransform\n",
       " Transform: ToTensor(),\n",
       " Dataset FashionMNIST\n",
       "     Number of datapoints: 10000\n",
       "     Root location: ./data\n",
       "     Split: Test\n",
       "     StandardTransform\n",
       " Transform: ToTensor())"
      ]
     },
     "execution_count": 11,
     "metadata": {},
     "output_type": "execute_result"
    }
   ],
   "execution_count": 11
  },
  {
   "cell_type": "markdown",
   "id": "fa42e8a82ea7d8de",
   "metadata": {},
   "source": [
    "At the moment, out data is in form of Pytorch Dataset. We will use Dataloader to turn the dataset in to python iterable object.\n",
    "To be precise, we want to turn the data into batches. In practical, the dataset for machine learning is notably big, we will want to break it into smaller batches to:\n",
    "1. It is more efficient, the hardware might not be able to store all the images in one hit. So we break it down to, for example, 32 images at a time.\n",
    "2. It gives our neural network more chances to update its gradients per epoch."
   ]
  },
  {
   "cell_type": "code",
   "id": "4875f68ac5cf2e4d",
   "metadata": {
    "ExecuteTime": {
     "end_time": "2024-12-16T14:50:33.392306Z",
     "start_time": "2024-12-16T14:50:33.386232Z"
    }
   },
   "source": [
    "from torch.utils.data import DataLoader\n",
    "\n",
    "# setup batch size hyperparameter\n",
    "BATCH_SIZE = 32\n",
    "\n",
    "# turn the datasets into iterable object\n",
    "train_dataloader = DataLoader(\n",
    "    train_data,\n",
    "    batch_size=BATCH_SIZE,\n",
    "    shuffle=True, # we will shuffle the data to make sure a batch wont have only data of one class\n",
    ")\n",
    "test_dataloader = DataLoader(\n",
    "    test_data,\n",
    "    batch_size=BATCH_SIZE\n",
    ")\n",
    "print(f'train_loader:{train_dataloader}, test_dataloader:{test_dataloader}')\n",
    "print(f'Length of train_loader: {len(train_dataloader)}, length of test_loader:{len(test_dataloader)}')"
   ],
   "outputs": [
    {
     "name": "stdout",
     "output_type": "stream",
     "text": [
      "train_loader:<torch.utils.data.dataloader.DataLoader object at 0x0000020737E73410>, test_dataloader:<torch.utils.data.dataloader.DataLoader object at 0x0000020737F5B590>\n",
      "Length of train_loader: 1875, length of test_loader:313\n"
     ]
    }
   ],
   "execution_count": 12
  },
  {
   "cell_type": "code",
   "id": "fbdcc66450980fc",
   "metadata": {
    "ExecuteTime": {
     "end_time": "2024-12-16T14:50:33.421980Z",
     "start_time": "2024-12-16T14:50:33.393317Z"
    }
   },
   "source": [
    "# Check what inside train_dataloader\n",
    "train_features_batch, train_labels_batch = next(iter(train_dataloader))\n",
    "print(f'train_features_batch shape: {train_features_batch.shape}')\n",
    "print(f'train_labels_batch shape: {train_labels_batch.shape}')"
   ],
   "outputs": [
    {
     "name": "stdout",
     "output_type": "stream",
     "text": [
      "train_features_batch shape: torch.Size([32, 1, 28, 28])\n",
      "train_labels_batch shape: torch.Size([32])\n"
     ]
    }
   ],
   "execution_count": 13
  },
  {
   "cell_type": "code",
   "id": "91622e77982a7b52",
   "metadata": {
    "ExecuteTime": {
     "end_time": "2024-12-16T14:50:33.577523Z",
     "start_time": "2024-12-16T14:50:33.422991Z"
    }
   },
   "source": [
    "# show a sample\n",
    "# torch.manual_seed(42)\n",
    "random_idx = torch.randint(0,len(train_features_batch),size=[1]).item()\n",
    "image, label = train_features_batch[random_idx], train_labels_batch[random_idx]\n",
    "plt.imshow(image.squeeze(),cmap='gray')\n",
    "plt.title(class_names[label])"
   ],
   "outputs": [
    {
     "data": {
      "text/plain": [
       "Text(0.5, 1.0, 'Bag')"
      ]
     },
     "execution_count": 14,
     "metadata": {},
     "output_type": "execute_result"
    },
    {
     "data": {
      "text/plain": [
       "<Figure size 640x480 with 1 Axes>"
      ],
      "image/png": "[encoded data removed]"
     },
     "metadata": {},
     "output_type": "display_data"
    }
   ],
   "execution_count": 14
  },
  {
   "cell_type": "code",
   "id": "647d74b359e384a1",
   "metadata": {
    "ExecuteTime": {
     "end_time": "2024-12-16T14:50:34.413803Z",
     "start_time": "2024-12-16T14:50:33.578534Z"
    }
   },
   "source": [
    "# show more samples in a batch\n",
    "fig = plt.figure(figsize=(12,12))\n",
    "rows, cols = 3, 3\n",
    "for i in range(1, rows * cols +1):\n",
    "    image, label = train_features_batch[i], train_labels_batch[i]\n",
    "    fig.add_subplot(rows,cols,i)\n",
    "    plt.imshow(image.squeeze(), cmap='gray')\n",
    "    plt.title(class_names[label])"
   ],
   "outputs": [
    {
     "data": {
      "text/plain": [
       "<Figure size 1200x1200 with 9 Axes>"
      ],
      "image/png": "[encoded data removed]"
     },
     "metadata": {},
     "output_type": "display_data"
    }
   ],
   "execution_count": 15
  },
  {
   "cell_type": "markdown",
   "id": "d25517f62992443e",
   "metadata": {},
   "source": [
    "\n",
    "# 3. Model 0: build a baseline model\n",
    "We will build a series of machine learning modelling experiments, it's best practice to start with baseline model.\n",
    "A baseline model is a simple model we will try to improve upon with subsequent models.\n",
    " Start simply and then add complexity if necessary"
   ]
  },
  {
   "cell_type": "code",
   "id": "6e4d118f62b785f1",
   "metadata": {
    "ExecuteTime": {
     "end_time": "2024-12-16T14:50:34.419310Z",
     "start_time": "2024-12-16T14:50:34.413803Z"
    }
   },
   "source": [
    "# create a flatten layer\n",
    "flatter_model = nn.Flatten()\n",
    "\n",
    "# get a single sample\n",
    "sample = train_features_batch[0]\n",
    "output = flatter_model(sample)\n",
    "\n",
    "# print out\n",
    "print(f'28 x 28 = {28*28}')\n",
    "print(f'Shape of sample: {sample.shape}, shape of output:{output.shape}')"
   ],
   "outputs": [
    {
     "name": "stdout",
     "output_type": "stream",
     "text": [
      "28 x 28 = 784\n",
      "Shape of sample: torch.Size([1, 28, 28]), shape of output:torch.Size([1, 784])\n"
     ]
    }
   ],
   "execution_count": 16
  },
  {
   "cell_type": "code",
   "id": "686cb426fc6b397c",
   "metadata": {
    "ExecuteTime": {
     "end_time": "2024-12-16T14:50:34.425342Z",
     "start_time": "2024-12-16T14:50:34.420316Z"
    }
   },
   "source": [
    "from torch import nn\n",
    "class FashionMNISTmodelV0(nn.Module):\n",
    "    def __init__(self, input_shape:int,hidden_units:int,output_shape:int):\n",
    "        super().__init__()\n",
    "        self.layer_stack = nn.Sequential(\n",
    "            nn.Flatten(),\n",
    "            nn.Linear(in_features=input_shape, out_features=hidden_units),\n",
    "            nn.Linear(in_features=hidden_units, out_features=output_shape)\n",
    "        )\n",
    "        \n",
    "    def forward(self, x):\n",
    "        return self.layer_stack(x)"
   ],
   "outputs": [],
   "execution_count": 17
  },
  {
   "cell_type": "code",
   "id": "f6936d801bfbd1ef",
   "metadata": {
    "ExecuteTime": {
     "end_time": "2024-12-16T14:50:34.440935Z",
     "start_time": "2024-12-16T14:50:34.426479Z"
    }
   },
   "source": [
    "torch.manual_seed(42)\n",
    "\n",
    "model_0 = FashionMNISTmodelV0(\n",
    "    input_shape=28*28,\n",
    "    hidden_units=10,\n",
    "    output_shape=len(class_names)\n",
    ").to('cpu')\n",
    "model_0"
   ],
   "outputs": [
    {
     "data": {
      "text/plain": [
       "FashionMNISTmodelV0(\n",
       "  (layer_stack): Sequential(\n",
       "    (0): Flatten(start_dim=1, end_dim=-1)\n",
       "    (1): Linear(in_features=784, out_features=10, bias=True)\n",
       "    (2): Linear(in_features=10, out_features=10, bias=True)\n",
       "  )\n",
       ")"
      ]
     },
     "execution_count": 18,
     "metadata": {},
     "output_type": "execute_result"
    }
   ],
   "execution_count": 18
  },
  {
   "cell_type": "code",
   "id": "7812e34af1078b1b",
   "metadata": {
    "ExecuteTime": {
     "end_time": "2024-12-16T14:50:34.464966Z",
     "start_time": "2024-12-16T14:50:34.441941Z"
    }
   },
   "source": [
    "dummy_sample = torch.rand(size=[1,1,28,28])\n",
    "model_0(dummy_sample)"
   ],
   "outputs": [
    {
     "data": {
      "text/plain": [
       "tensor([[-0.0315,  0.3171,  0.0531, -0.2525,  0.5959,  0.2112,  0.3233,  0.2694,\n",
       "         -0.1004,  0.0157]], grad_fn=<AddmmBackward0>)"
      ]
     },
     "execution_count": 19,
     "metadata": {},
     "output_type": "execute_result"
    }
   ],
   "execution_count": 19
  },
  {
   "cell_type": "markdown",
   "id": "b530e3c75b3e6955",
   "metadata": {},
   "source": [
    "## 3.1. Setup loss function, optimizer and evaluation metrics\n",
    "* Loss function - [`nn.CrossEntropyLoss()`](https://pytorch.org/docs/stable/generated/torch.nn.CrossEntropyLoss.html)\n",
    "* Optimizer - `torch.optim.SGD()`\n",
    "* Evaluation metrics "
   ]
  },
  {
   "cell_type": "code",
   "id": "d34d12fa2090936c",
   "metadata": {
    "ExecuteTime": {
     "end_time": "2024-12-16T14:50:34.836229Z",
     "start_time": "2024-12-16T14:50:34.465480Z"
    }
   },
   "source": [
    "import requests\n",
    "from pathlib import Path\n",
    "\n",
    "# download helper function\n",
    "if Path('helper/helper_functions.py').is_file():\n",
    "    print('helper_functions.py is already exists')\n",
    "else:\n",
    "    print('Downloading...')\n",
    "    request = requests.get(\"https://raw.githubusercontent.com/mrdbourke/pytorch-deep-learning/main/helper_functions.py\")\n",
    "    with open(\"helper_functions.py\", \"wb\") as f:\n",
    "        f.write(request.content)"
   ],
   "outputs": [
    {
     "name": "stdout",
     "output_type": "stream",
     "text": [
      "helper_functions.py is already exists\n"
     ]
    }
   ],
   "execution_count": 20
  },
  {
   "cell_type": "code",
   "id": "b97fa22382e7333f",
   "metadata": {
    "ExecuteTime": {
     "end_time": "2024-12-16T14:50:35.979517Z",
     "start_time": "2024-12-16T14:50:34.837237Z"
    }
   },
   "source": [
    "# import accuracy metric\n",
    "from helper.helper_functions import accuracy_fn\n",
    "\n",
    "loss_fn = nn.CrossEntropyLoss()\n",
    "optimizer = torch.optim.SGD(\n",
    "    params=model_0.parameters(),\n",
    "    lr=0.1\n",
    ")"
   ],
   "outputs": [],
   "execution_count": 21
  },
  {
   "cell_type": "markdown",
   "id": "9823283bfceb32ac",
   "metadata": {},
   "source": [
    "## 3.2. Create a function to time experiments"
   ]
  },
  {
   "cell_type": "code",
   "id": "8ec2e33764095c97",
   "metadata": {
    "ExecuteTime": {
     "end_time": "2024-12-16T14:50:35.985030Z",
     "start_time": "2024-12-16T14:50:35.980524Z"
    }
   },
   "source": [
    "from timeit import default_timer as timer\n",
    "def print_train_time(start: timer, end: timer, device: str) -> float:\n",
    "    \"\"\"\n",
    "    print difference between start and end time\n",
    "    :param start: \n",
    "    :param end: \n",
    "    :param device: \n",
    "    :return: \n",
    "    \"\"\"\n",
    "    total_time = end - start\n",
    "    print(f'Train time on {device}: {total_time:.3f} second ')\n",
    "    return total_time"
   ],
   "outputs": [],
   "execution_count": 22
  },
  {
   "cell_type": "markdown",
   "id": "ec536447ef9e7da1",
   "metadata": {},
   "source": [
    "## 3.3. Create training loop\n",
    "1. Loop through epochs.\n",
    "2. Loop through training batches, perform training steps, calculate the train loss **per batch**\n",
    "3. Loop through testing batches, perform testing steps, calculate the test loss **per batch**\n",
    "4. Print out the process\n",
    "5. Time the process"
   ]
  },
  {
   "cell_type": "code",
   "id": "1dd52aa4674e2f7",
   "metadata": {
    "ExecuteTime": {
     "end_time": "2024-12-16T14:51:03.333852Z",
     "start_time": "2024-12-16T14:50:35.986139Z"
    }
   },
   "source": [
    "from tqdm.auto import tqdm\n",
    "\n",
    "# Set up the seed and start the timer\n",
    "RANDOM_SEED = 42\n",
    "torch.manual_seed(RANDOM_SEED)\n",
    "train_time_start_on_cpu = timer()\n",
    "\n",
    "# Set up the number of epochs\n",
    "epochs = 3\n",
    "\n",
    "# Create training loop\n",
    "for epoch in tqdm(range(epochs)):\n",
    "    print(f'Epoch {epoch}\\n-----')\n",
    "    ### Training\n",
    "    train_loss = 0\n",
    "    # Loop through the training batches\n",
    "    for batch,(image,label) in enumerate(train_dataloader):\n",
    "        model_0.train()\n",
    "        # 1. Forward pass\n",
    "        y_pred = model_0(image)\n",
    "        # 2. Calculate the loss\n",
    "        loss = loss_fn(y_pred,label)\n",
    "        train_loss += loss\n",
    "        # 3. Optimizer zero grad\n",
    "        optimizer.zero_grad()\n",
    "        # 4. Loss backward\n",
    "        loss.backward()\n",
    "        # 5. Optimize step\n",
    "        optimizer.step()\n",
    "    \n",
    "        # Print out process\n",
    "        if batch % 100 == 0:\n",
    "            print(f'Look at {batch*len(image)}/{len(train_dataloader.dataset)} samples')\n",
    "    # Divide total train loss by length if train dataloader \n",
    "    train_loss /= len(train_dataloader)\n",
    "    \n",
    "    ### Testing\n",
    "    test_loss, test_acc = 0, 0\n",
    "    model_0.eval()\n",
    "    with torch.inference_mode():\n",
    "        for image, label in test_dataloader:\n",
    "            # 1. Forward pass\n",
    "            test_pred = model_0(image)\n",
    "            # 2. Calculate the loss\n",
    "            loss = loss_fn(test_pred, label)\n",
    "            test_loss += loss\n",
    "            # 3. Calculate accuracy\n",
    "            test_acc += accuracy_fn(y_true=label,y_pred=test_pred.argmax(dim=1))\n",
    "        # Calculate the test loss and test accuracy average per batch\n",
    "        test_loss /= len(test_dataloader)\n",
    "        test_acc /= len(test_dataloader)\n",
    "    \n",
    "    # print out the process\n",
    "    print(f'\\nTrain lost: {train_loss:.4f} | Test loss: {test_loss:.4f}, Test acc: {test_acc:.4f}')\n",
    "\n",
    "# Calculate training time\n",
    "train_time_end_on_cpu = timer()\n",
    "total_train_time_model_0 = print_train_time(start=train_time_start_on_cpu,\n",
    "                                            end=train_time_end_on_cpu,\n",
    "                                            device=str(next(model_0.parameters()).device))"
   ],
   "outputs": [
    {
     "data": {
      "text/plain": [
       "  0%|          | 0/3 [00:00<?, ?it/s]"
      ],
      "application/vnd.jupyter.widget-view+json": {
       "version_major": 2,
       "version_minor": 0,
       "model_id": "4734a73a2f5440cc8b7d44d58b5fbe74"
      }
     },
     "metadata": {},
     "output_type": "display_data"
    },
    {
     "name": "stdout",
     "output_type": "stream",
     "text": [
      "Epoch 0\n",
      "-----\n",
      "Look at 0/60000 samples\n",
      "Look at 3200/60000 samples\n",
      "Look at 6400/60000 samples\n",
      "Look at 9600/60000 samples\n",
      "Look at 12800/60000 samples\n",
      "Look at 16000/60000 samples\n",
      "Look at 19200/60000 samples\n",
      "Look at 22400/60000 samples\n",
      "Look at 25600/60000 samples\n",
      "Look at 28800/60000 samples\n",
      "Look at 32000/60000 samples\n",
      "Look at 35200/60000 samples\n",
      "Look at 38400/60000 samples\n",
      "Look at 41600/60000 samples\n",
      "Look at 44800/60000 samples\n",
      "Look at 48000/60000 samples\n",
      "Look at 51200/60000 samples\n",
      "Look at 54400/60000 samples\n",
      "Look at 57600/60000 samples\n",
      "\n",
      "Train lost: 0.5904 | Test loss: 0.5095, Test acc: 82.0387\n",
      "Epoch 1\n",
      "-----\n",
      "Look at 0/60000 samples\n",
      "Look at 3200/60000 samples\n",
      "Look at 6400/60000 samples\n",
      "Look at 9600/60000 samples\n",
      "Look at 12800/60000 samples\n",
      "Look at 16000/60000 samples\n",
      "Look at 19200/60000 samples\n",
      "Look at 22400/60000 samples\n",
      "Look at 25600/60000 samples\n",
      "Look at 28800/60000 samples\n",
      "Look at 32000/60000 samples\n",
      "Look at 35200/60000 samples\n",
      "Look at 38400/60000 samples\n",
      "Look at 41600/60000 samples\n",
      "Look at 44800/60000 samples\n",
      "Look at 48000/60000 samples\n",
      "Look at 51200/60000 samples\n",
      "Look at 54400/60000 samples\n",
      "Look at 57600/60000 samples\n",
      "\n",
      "Train lost: 0.4763 | Test loss: 0.4799, Test acc: 83.1969\n",
      "Epoch 2\n",
      "-----\n",
      "Look at 0/60000 samples\n",
      "Look at 3200/60000 samples\n",
      "Look at 6400/60000 samples\n",
      "Look at 9600/60000 samples\n",
      "Look at 12800/60000 samples\n",
      "Look at 16000/60000 samples\n",
      "Look at 19200/60000 samples\n",
      "Look at 22400/60000 samples\n",
      "Look at 25600/60000 samples\n",
      "Look at 28800/60000 samples\n",
      "Look at 32000/60000 samples\n",
      "Look at 35200/60000 samples\n",
      "Look at 38400/60000 samples\n",
      "Look at 41600/60000 samples\n",
      "Look at 44800/60000 samples\n",
      "Look at 48000/60000 samples\n",
      "Look at 51200/60000 samples\n",
      "Look at 54400/60000 samples\n",
      "Look at 57600/60000 samples\n",
      "\n",
      "Train lost: 0.4550 | Test loss: 0.4766, Test acc: 83.4265\n",
      "Train time on cpu: 27.239 second \n"
     ]
    }
   ],
   "execution_count": 23
  },
  {
   "cell_type": "markdown",
   "id": "9af7efd8-30df-42ce-a39c-5fb53cda70c2",
   "metadata": {},
   "source": [
    "# 4. Make predictions and get Model 0 results"
   ]
  },
  {
   "cell_type": "code",
   "id": "84a1db07-e322-4899-b8e5-9f664ce14d6f",
   "metadata": {
    "ExecuteTime": {
     "end_time": "2024-12-16T14:51:04.337923Z",
     "start_time": "2024-12-16T14:51:03.335369Z"
    }
   },
   "source": [
    "torch.manual_seed(RANDOM_SEED)\n",
    "def eval_model(model:torch.nn.Module,\n",
    "               data_loader: torch.utils.data.DataLoader,\n",
    "               loss_fn: torch.nn.Module,\n",
    "               accuracy_fn,\n",
    "               device: torch.device):\n",
    "    \"\"\"\n",
    "    Return a dictionary of the results of model predicting on data_loader\n",
    "    :param model: \n",
    "    :param data_loader: \n",
    "    :param loss_fn: \n",
    "    :param accuracy_fn: \n",
    "    :return: \n",
    "    \"\"\"\n",
    "    loss, acc = 0, 0\n",
    "    model.eval()\n",
    "    with torch.inference_mode():\n",
    "        for image, label in tqdm(data_loader):\n",
    "            image, label = image.to(device), label.to(device)\n",
    "            y_pred = model(image)\n",
    "            loss += loss_fn(y_pred, label)\n",
    "            acc += accuracy_fn(label, y_pred.argmax(dim=1))\n",
    "        # Scale loss and acc to find the average loss/acc per batch\n",
    "        loss /= len(data_loader)\n",
    "        acc /= len(data_loader)\n",
    "    return {\n",
    "        \"model_name\": model.__class__.__name__,\n",
    "        \"model_loss\": loss.item(),\n",
    "        \"model_acc\": acc\n",
    "    }\n",
    "\n",
    "# Calculate model_0 results on test dataset\n",
    "model_0_results = eval_model(model=model_0,\n",
    "                             data_loader=test_dataloader,\n",
    "                             loss_fn=loss_fn,\n",
    "                             accuracy_fn=accuracy_fn,\n",
    "                             device=torch.device('cpu'))\n",
    "model_0_results"
   ],
   "outputs": [
    {
     "data": {
      "text/plain": [
       "  0%|          | 0/313 [00:00<?, ?it/s]"
      ],
      "application/vnd.jupyter.widget-view+json": {
       "version_major": 2,
       "version_minor": 0,
       "model_id": "274b2efec1f04771ad76484e80ddb688"
      }
     },
     "metadata": {},
     "output_type": "display_data"
    },
    {
     "data": {
      "text/plain": [
       "{'model_name': 'FashionMNISTmodelV0',\n",
       " 'model_loss': 0.47663894295692444,\n",
       " 'model_acc': 83.42651757188499}"
      ]
     },
     "execution_count": 24,
     "metadata": {},
     "output_type": "execute_result"
    }
   ],
   "execution_count": 24
  },
  {
   "cell_type": "markdown",
   "id": "88f60c3058e0b322",
   "metadata": {},
   "source": [
    "# 5. Setup device agnostic-code\n"
   ]
  },
  {
   "cell_type": "code",
   "id": "cca38fb854922671",
   "metadata": {
    "ExecuteTime": {
     "end_time": "2024-12-16T14:51:04.343833Z",
     "start_time": "2024-12-16T14:51:04.338930Z"
    }
   },
   "source": [
    "device = 'cuda' if torch.cuda.is_available() else 'cpu'\n",
    "device"
   ],
   "outputs": [
    {
     "data": {
      "text/plain": [
       "'cuda'"
      ]
     },
     "execution_count": 25,
     "metadata": {},
     "output_type": "execute_result"
    }
   ],
   "execution_count": 25
  },
  {
   "cell_type": "markdown",
   "id": "d12418bea67ac347",
   "metadata": {},
   "source": [
    "# 6. Model_1: build model with non-linearity"
   ]
  },
  {
   "cell_type": "code",
   "id": "492eb7b193f32cfd",
   "metadata": {
    "ExecuteTime": {
     "end_time": "2024-12-16T14:51:04.350354Z",
     "start_time": "2024-12-16T14:51:04.344844Z"
    }
   },
   "source": [
    "class FashionMNISTModelV1(nn.Module):\n",
    "    def __init__(self, input_shape:int, hidden_units:int, output_shape:int):\n",
    "        super().__init__()\n",
    "        self.layer_stack = nn.Sequential(\n",
    "            nn.Flatten(),\n",
    "            nn.Linear(in_features=input_shape, out_features=hidden_units),\n",
    "            nn.ReLU(),\n",
    "            nn.Linear(in_features=hidden_units, out_features=output_shape),\n",
    "            nn.ReLU(),\n",
    "        )\n",
    "    \n",
    "    def forward(self, x:torch.Tensor):\n",
    "        return self.layer_stack(x)"
   ],
   "outputs": [],
   "execution_count": 26
  },
  {
   "cell_type": "code",
   "id": "350f8a9e15897cf8",
   "metadata": {
    "ExecuteTime": {
     "end_time": "2024-12-16T14:51:05.537673Z",
     "start_time": "2024-12-16T14:51:04.351361Z"
    }
   },
   "source": [
    "model_1 = FashionMNISTModelV1(input_shape=28*28,\n",
    "                              hidden_units=10,\n",
    "                              output_shape=10)\n",
    "model_1.to(device)\n",
    "next(model_1.parameters()).device"
   ],
   "outputs": [
    {
     "data": {
      "text/plain": [
       "device(type='cuda', index=0)"
      ]
     },
     "execution_count": 27,
     "metadata": {},
     "output_type": "execute_result"
    }
   ],
   "execution_count": 27
  },
  {
   "cell_type": "markdown",
   "id": "a19782c6ae2231a2",
   "metadata": {},
   "source": [
    "## 6.1. Create loss, optimizer and evaluate metrics"
   ]
  },
  {
   "cell_type": "code",
   "id": "782076b6e4e189c",
   "metadata": {
    "ExecuteTime": {
     "end_time": "2024-12-16T14:51:05.544194Z",
     "start_time": "2024-12-16T14:51:05.540680Z"
    }
   },
   "source": [
    "from helper.helper_functions import accuracy_fn\n",
    "loss_fn = nn.CrossEntropyLoss()\n",
    "optimizer = torch.optim.SGD(params=model_1.parameters(),\n",
    "                            lr=0.1)"
   ],
   "outputs": [],
   "execution_count": 28
  },
  {
   "cell_type": "markdown",
   "id": "d60b2d229b804e13",
   "metadata": {},
   "source": [
    "## 6.2. Functionizing training and testing loops"
   ]
  },
  {
   "cell_type": "code",
   "id": "f5f0a6f11b47860",
   "metadata": {
    "ExecuteTime": {
     "end_time": "2024-12-16T14:51:05.551463Z",
     "start_time": "2024-12-16T14:51:05.544709Z"
    }
   },
   "source": [
    "def train_step(model: nn.Module,\n",
    "               data_loader: torch.utils.data.DataLoader,\n",
    "               loss_fn: torch.nn.Module,\n",
    "               optimizer: torch.optim.Optimizer,\n",
    "               accuracy_fn,\n",
    "               device: torch.device\n",
    "               ):\n",
    "    \"\"\"\n",
    "    Performs a training with model trying to learn on data_loader\n",
    "    :param model: \n",
    "    :param data_loader: \n",
    "    :param loss_fn: \n",
    "    :param optimizer: \n",
    "    :param accuracy_fn: \n",
    "    :param device: \n",
    "    \"\"\"\n",
    "    train_loss, train_acc = 0, 0\n",
    "    model.to(device)\n",
    "    model.train()\n",
    "    for batch,(image, label) in enumerate(data_loader):\n",
    "        # Put data to target device\n",
    "        image, label = image.to(device), label.to(device)\n",
    "        # 1. Forward pass\n",
    "        y_pred = model(image)\n",
    "        # 2. Calculate loss and accuracy\n",
    "        loss = loss_fn(y_pred,label)\n",
    "        train_loss += loss\n",
    "        train_acc += accuracy_fn(label, y_pred.argmax(dim=1))\n",
    "        # 3. Optimizer zero grad\n",
    "        optimizer.zero_grad()\n",
    "        # 4. Loss backward\n",
    "        loss.backward()\n",
    "        # 5. Optimizer step\n",
    "        optimizer.step()\n",
    "        \n",
    "        # print out process\n",
    "        if batch % 500 == 0:\n",
    "            print(f'Look at {batch * len(image)}/{len(data_loader.dataset)} samples')\n",
    "    \n",
    "    train_loss /= len(data_loader)\n",
    "    train_acc /= len(data_loader)\n",
    "    print(f'Train loss: {train_loss:.5f} | Train acc: {train_acc:.2f}%')    "
   ],
   "outputs": [],
   "execution_count": 29
  },
  {
   "cell_type": "code",
   "id": "9025985d009b7876",
   "metadata": {
    "ExecuteTime": {
     "end_time": "2024-12-16T14:51:05.559Z",
     "start_time": "2024-12-16T14:51:05.552470Z"
    }
   },
   "source": [
    "def test_step(model:nn.Module,\n",
    "              data_loader: torch.utils.data.DataLoader,\n",
    "              loss_fn: nn.Module,\n",
    "              optimizer: torch.optim.Optimizer,\n",
    "              accuracy_fn,\n",
    "              device: torch.device\n",
    "              ):\n",
    "    \"\"\"\n",
    "    Perform a testing loop step on model going over data_loader\n",
    "    :param model: \n",
    "    :param data_loader: \n",
    "    :param loss_fn: \n",
    "    :param optimizer: \n",
    "    :param accuracy_fn: \n",
    "    :param device: \n",
    "    \"\"\"\n",
    "    test_loss, test_acc = 0, 0\n",
    "    model.to(device)\n",
    "    # Put model to eval mode\n",
    "    model.eval()\n",
    "    with torch.inference_mode():\n",
    "        for image, label in data_loader:\n",
    "            image, label = image.to(device), label.to(device)\n",
    "            # 1. Forward pass\n",
    "            test_pred = model(image)\n",
    "            # 2. Calculate the loss\n",
    "            test_loss += loss_fn(test_pred, label)\n",
    "            test_acc += accuracy_fn(label, test_pred.argmax(dim=1))\n",
    "        # Adjust the metrics\n",
    "        test_loss /= len(data_loader)\n",
    "        test_acc /= len(data_loader)\n",
    "        print(f'Test loss:{test_loss:.5f} | Test acc: {test_acc:.2f}%')"
   ],
   "outputs": [],
   "execution_count": 30
  },
  {
   "cell_type": "code",
   "id": "40c96fdf43946bac",
   "metadata": {
    "ExecuteTime": {
     "end_time": "2024-12-16T14:51:38.271409Z",
     "start_time": "2024-12-16T14:51:05.560011Z"
    }
   },
   "source": [
    "torch.manual_seed(RANDOM_SEED)\n",
    "\n",
    "# Measure time\n",
    "train_time_start_on_gpu = timer()\n",
    "\n",
    "# Set epochs\n",
    "epochs = 3\n",
    "\n",
    "# Create a optimization and evaluation loop using train_strep and test_step\n",
    "for epoch in tqdm( range(epochs)):\n",
    "    print(f'Epoch: {epoch}\\n----')\n",
    "    train_step(model=model_1,\n",
    "               data_loader=train_dataloader,\n",
    "               loss_fn=loss_fn,\n",
    "               optimizer=optimizer,\n",
    "               accuracy_fn=accuracy_fn,\n",
    "               device = device)\n",
    "    \n",
    "    test_step(model=model_1,\n",
    "              data_loader=test_dataloader,\n",
    "              loss_fn=loss_fn,\n",
    "              optimizer=optimizer,\n",
    "              accuracy_fn=accuracy_fn,\n",
    "              device=device)\n",
    "train_time_end_on_gpu = timer()\n",
    "total_train_time_model_1 = print_train_time(train_time_start_on_gpu, train_time_end_on_gpu, device)"
   ],
   "outputs": [
    {
     "data": {
      "text/plain": [
       "  0%|          | 0/3 [00:00<?, ?it/s]"
      ],
      "application/vnd.jupyter.widget-view+json": {
       "version_major": 2,
       "version_minor": 0,
       "model_id": "7addc4e5687b48da99b5394d2ad0a500"
      }
     },
     "metadata": {},
     "output_type": "display_data"
    },
    {
     "name": "stdout",
     "output_type": "stream",
     "text": [
      "Epoch: 0\n",
      "----\n",
      "Look at 0/60000 samples\n",
      "Look at 16000/60000 samples\n",
      "Look at 32000/60000 samples\n",
      "Look at 48000/60000 samples\n",
      "Train loss: 1.11456 | Train acc: 58.46%\n",
      "Test loss:0.96320 | Test acc: 63.41%\n",
      "Epoch: 1\n",
      "----\n",
      "Look at 0/60000 samples\n",
      "Look at 16000/60000 samples\n",
      "Look at 32000/60000 samples\n",
      "Look at 48000/60000 samples\n",
      "Train loss: 0.90905 | Train acc: 64.87%\n",
      "Test loss:0.74544 | Test acc: 72.61%\n",
      "Epoch: 2\n",
      "----\n",
      "Look at 0/60000 samples\n",
      "Look at 16000/60000 samples\n",
      "Look at 32000/60000 samples\n",
      "Look at 48000/60000 samples\n",
      "Train loss: 0.59506 | Train acc: 78.26%\n",
      "Test loss:0.49534 | Test acc: 82.68%\n",
      "Train time on cuda: 32.623 second \n"
     ]
    }
   ],
   "execution_count": 31
  },
  {
   "cell_type": "code",
   "id": "08754abf-389b-47b6-b4cf-99fac4067bf9",
   "metadata": {
    "ExecuteTime": {
     "end_time": "2024-12-16T14:51:38.276596Z",
     "start_time": "2024-12-16T14:51:38.272417Z"
    }
   },
   "source": [
    "print(model_0_results)\n",
    "print(total_train_time_model_0)"
   ],
   "outputs": [
    {
     "name": "stdout",
     "output_type": "stream",
     "text": [
      "{'model_name': 'FashionMNISTmodelV0', 'model_loss': 0.47663894295692444, 'model_acc': 83.42651757188499}\n",
      "27.23892939999996\n"
     ]
    }
   ],
   "execution_count": 32
  },
  {
   "cell_type": "code",
   "id": "60fb728c-dd51-41a5-b67c-785e910c8a97",
   "metadata": {
    "ExecuteTime": {
     "end_time": "2024-12-16T14:51:39.690358Z",
     "start_time": "2024-12-16T14:51:38.277604Z"
    }
   },
   "source": [
    "model_1_results = eval_model(model=model_1,\n",
    "                             data_loader=test_dataloader,\n",
    "                             loss_fn=loss_fn,\n",
    "                             accuracy_fn=accuracy_fn,\n",
    "                             device=device)"
   ],
   "outputs": [
    {
     "data": {
      "text/plain": [
       "  0%|          | 0/313 [00:00<?, ?it/s]"
      ],
      "application/vnd.jupyter.widget-view+json": {
       "version_major": 2,
       "version_minor": 0,
       "model_id": "3c2ab24d226b44738e13f1d30ceb3610"
      }
     },
     "metadata": {},
     "output_type": "display_data"
    }
   ],
   "execution_count": 33
  },
  {
   "cell_type": "code",
   "id": "f01f5b3f6a4fff17",
   "metadata": {
    "ExecuteTime": {
     "end_time": "2024-12-16T14:51:39.696929Z",
     "start_time": "2024-12-16T14:51:39.691368Z"
    }
   },
   "source": [
    "print(model_1_results)\n",
    "print(total_train_time_model_1)"
   ],
   "outputs": [
    {
     "name": "stdout",
     "output_type": "stream",
     "text": [
      "{'model_name': 'FashionMNISTModelV1', 'model_loss': 0.49533671140670776, 'model_acc': 82.67771565495208}\n",
      "32.62327099999993\n"
     ]
    }
   ],
   "execution_count": 34
  },
  {
   "cell_type": "markdown",
   "id": "84f9ef8388899851",
   "metadata": {},
   "source": [
    "# 7. Model_2: Build a Cpnvolutional Neural Network (CNN)\n",
    "CNNs are also known as ConvNets and are known for their capabilities to find pattern in visual data"
   ]
  },
  {
   "cell_type": "code",
   "id": "85ffdbc7e9709d79",
   "metadata": {
    "ExecuteTime": {
     "end_time": "2024-12-16T14:51:39.709218Z",
     "start_time": "2024-12-16T14:51:39.698940Z"
    }
   },
   "source": [
    "# Create a CNN\n",
    "class FashionMNISTModelV2(nn.Module):\n",
    "    \"\"\"\n",
    "    Model architecture that replicate the TinyVGG\n",
    "    \"\"\"\n",
    "    def __init__(self,\n",
    "                 input_shape:int,\n",
    "                 hidden_units:int,\n",
    "                 output_shape:int):\n",
    "        super().__init__()\n",
    "        self.conv_block_1 = nn.Sequential(\n",
    "            nn.Conv2d(in_channels=input_shape,\n",
    "                      out_channels=hidden_units,\n",
    "                      kernel_size=3,\n",
    "                      padding=1,\n",
    "                      stride=1),\n",
    "            nn.ReLU(),\n",
    "            nn.Conv2d(in_channels=hidden_units,\n",
    "                      out_channels=hidden_units,\n",
    "                      kernel_size=3,\n",
    "                      padding=1,\n",
    "                      stride=1),\n",
    "            nn.ReLU(),\n",
    "            nn.MaxPool2d(kernel_size=2,stride=2)\n",
    "        )\n",
    "        self.conv_block_2 = nn.Sequential(\n",
    "            nn.Conv2d(in_channels=hidden_units,\n",
    "                      out_channels=hidden_units,\n",
    "                      kernel_size=3,\n",
    "                      padding=1,\n",
    "                      stride=1),\n",
    "            nn.ReLU(),\n",
    "            nn.Conv2d(in_channels=hidden_units,\n",
    "                      out_channels=hidden_units,\n",
    "                      kernel_size=3,\n",
    "                      stride=1,\n",
    "                      padding=1,\n",
    "            ),\n",
    "            nn.ReLU(),\n",
    "            nn.MaxPool2d(kernel_size=2,stride=2)\n",
    "        )\n",
    "        self.classifier = nn.Sequential(\n",
    "            nn.Flatten(),\n",
    "            nn.Linear(in_features=hidden_units*7*7,\n",
    "                      out_features=output_shape)\n",
    "        )\n",
    "    \n",
    "    def forward(self, x):\n",
    "        x =  self.conv_block_1(x)\n",
    "        # print(f'x shape after conv_block_1: {x.shape}')\n",
    "        x = self.conv_block_2(x)\n",
    "        # print(f'x shape after conv_block_2: {x.shape}')\n",
    "        x = self.classifier(x)\n",
    "        return x"
   ],
   "outputs": [],
   "execution_count": 35
  },
  {
   "cell_type": "code",
   "id": "49c37f44979d041b",
   "metadata": {
    "ExecuteTime": {
     "end_time": "2024-12-16T14:51:39.721713Z",
     "start_time": "2024-12-16T14:51:39.710225Z"
    }
   },
   "source": [
    "torch.manual_seed(RANDOM_SEED)\n",
    "model_2 = FashionMNISTModelV2(input_shape=1, hidden_units=10, output_shape=len(class_names))\n",
    "model_2.to(device)"
   ],
   "outputs": [
    {
     "data": {
      "text/plain": [
       "FashionMNISTModelV2(\n",
       "  (conv_block_1): Sequential(\n",
       "    (0): Conv2d(1, 10, kernel_size=(3, 3), stride=(1, 1), padding=(1, 1))\n",
       "    (1): ReLU()\n",
       "    (2): Conv2d(10, 10, kernel_size=(3, 3), stride=(1, 1), padding=(1, 1))\n",
       "    (3): ReLU()\n",
       "    (4): MaxPool2d(kernel_size=2, stride=2, padding=0, dilation=1, ceil_mode=False)\n",
       "  )\n",
       "  (conv_block_2): Sequential(\n",
       "    (0): Conv2d(10, 10, kernel_size=(3, 3), stride=(1, 1), padding=(1, 1))\n",
       "    (1): ReLU()\n",
       "    (2): Conv2d(10, 10, kernel_size=(3, 3), stride=(1, 1), padding=(1, 1))\n",
       "    (3): ReLU()\n",
       "    (4): MaxPool2d(kernel_size=2, stride=2, padding=0, dilation=1, ceil_mode=False)\n",
       "  )\n",
       "  (classifier): Sequential(\n",
       "    (0): Flatten(start_dim=1, end_dim=-1)\n",
       "    (1): Linear(in_features=490, out_features=10, bias=True)\n",
       "  )\n",
       ")"
      ]
     },
     "execution_count": 36,
     "metadata": {},
     "output_type": "execute_result"
    }
   ],
   "execution_count": 36
  },
  {
   "cell_type": "code",
   "id": "f37f9885f97294cb",
   "metadata": {
    "ExecuteTime": {
     "end_time": "2024-12-16T14:51:40.165232Z",
     "start_time": "2024-12-16T14:51:39.722722Z"
    }
   },
   "source": [
    "# Create random image\n",
    "torch.manual_seed(RANDOM_SEED)\n",
    "rand_image = torch.randn(size=[1,28,28]).unsqueeze(0).to(device)\n",
    "\n",
    "# Pass image to model\n",
    "model_2(rand_image)"
   ],
   "outputs": [
    {
     "data": {
      "text/plain": [
       "tensor([[ 0.0505, -0.0729,  0.0821, -0.0451, -0.0044,  0.0383,  0.0061, -0.0016,\n",
       "         -0.0127, -0.0081]], device='cuda:0', grad_fn=<AddmmBackward0>)"
      ]
     },
     "execution_count": 37,
     "metadata": {},
     "output_type": "execute_result"
    }
   ],
   "execution_count": 37
  },
  {
   "cell_type": "markdown",
   "id": "f381749a59b55a3e",
   "metadata": {},
   "source": [
    "## 7.1. Setup loss function and optimizer"
   ]
  },
  {
   "cell_type": "code",
   "id": "5e1d1acf482db291",
   "metadata": {
    "ExecuteTime": {
     "end_time": "2024-12-16T14:51:40.170146Z",
     "start_time": "2024-12-16T14:51:40.165744Z"
    }
   },
   "source": [
    "from helper.helper_functions import accuracy_fn\n",
    "loss_fn = nn.CrossEntropyLoss()\n",
    "optimizer = torch.optim.SGD(params=model_2.parameters(),\n",
    "                            lr=0.1)"
   ],
   "outputs": [],
   "execution_count": 38
  },
  {
   "cell_type": "markdown",
   "id": "590a27d299ba8e04",
   "metadata": {},
   "source": [
    "## 7.4. Training and testing model_2"
   ]
  },
  {
   "cell_type": "code",
   "id": "149c99f47fb5e716",
   "metadata": {
    "ExecuteTime": {
     "end_time": "2024-12-16T14:52:23.893871Z",
     "start_time": "2024-12-16T14:51:40.171155Z"
    }
   },
   "source": [
    "torch.manual_seed(RANDOM_SEED)\n",
    "torch.cuda.manual_seed(RANDOM_SEED)\n",
    "\n",
    "# Measure time\n",
    "from timeit import default_timer as timer\n",
    "train_time_start_model_2 = timer()\n",
    "\n",
    "# Train and test model\n",
    "epochs = 3\n",
    "for epoch in tqdm(range(epochs)):\n",
    "    print(f'Epoch {epoch}\\n----')\n",
    "    train_step(model=model_2,\n",
    "               data_loader=train_dataloader,\n",
    "               loss_fn=loss_fn,\n",
    "               optimizer=optimizer,\n",
    "               accuracy_fn=accuracy_fn,\n",
    "               device=device)\n",
    "    \n",
    "    test_step(model=model_2,\n",
    "              data_loader=test_dataloader,\n",
    "              loss_fn=loss_fn,\n",
    "              optimizer=optimizer,\n",
    "              accuracy_fn=accuracy_fn,\n",
    "              device=device)\n",
    "    \n",
    "train_time_end_model_2 = timer()\n",
    "total_train_time_model_2 = print_train_time(start=train_time_start_model_2, \n",
    "                                            end=train_time_end_model_2,\n",
    "                                            device=device)"
   ],
   "outputs": [
    {
     "data": {
      "text/plain": [
       "  0%|          | 0/3 [00:00<?, ?it/s]"
      ],
      "application/vnd.jupyter.widget-view+json": {
       "version_major": 2,
       "version_minor": 0,
       "model_id": "861fef239cc6440985b257d9c6d9df31"
      }
     },
     "metadata": {},
     "output_type": "display_data"
    },
    {
     "name": "stdout",
     "output_type": "stream",
     "text": [
      "Epoch 0\n",
      "----\n",
      "Look at 0/60000 samples\n",
      "Look at 16000/60000 samples\n",
      "Look at 32000/60000 samples\n",
      "Look at 48000/60000 samples\n",
      "Train loss: 0.59763 | Train acc: 78.15%\n",
      "Test loss:0.39695 | Test acc: 85.99%\n",
      "Epoch 1\n",
      "----\n",
      "Look at 0/60000 samples\n",
      "Look at 16000/60000 samples\n",
      "Look at 32000/60000 samples\n",
      "Look at 48000/60000 samples\n",
      "Train loss: 0.36199 | Train acc: 86.93%\n",
      "Test loss:0.37970 | Test acc: 86.00%\n",
      "Epoch 2\n",
      "----\n",
      "Look at 0/60000 samples\n",
      "Look at 16000/60000 samples\n",
      "Look at 32000/60000 samples\n",
      "Look at 48000/60000 samples\n",
      "Train loss: 0.32070 | Train acc: 88.44%\n",
      "Test loss:0.32467 | Test acc: 88.31%\n",
      "Train time on cuda: 43.715 second \n"
     ]
    }
   ],
   "execution_count": 39
  },
  {
   "cell_type": "code",
   "id": "4c24d9eaae962674",
   "metadata": {
    "ExecuteTime": {
     "end_time": "2024-12-16T14:52:25.574914Z",
     "start_time": "2024-12-16T14:52:23.894882Z"
    }
   },
   "source": [
    "# Get model_2 result\n",
    "model_2_results = eval_model(model=model_2,\n",
    "                             data_loader=test_dataloader,\n",
    "                             loss_fn=loss_fn,\n",
    "                             accuracy_fn=accuracy_fn,\n",
    "                             device=device)"
   ],
   "outputs": [
    {
     "data": {
      "text/plain": [
       "  0%|          | 0/313 [00:00<?, ?it/s]"
      ],
      "application/vnd.jupyter.widget-view+json": {
       "version_major": 2,
       "version_minor": 0,
       "model_id": "af5d01f9f8174850b44ec1c2b0065705"
      }
     },
     "metadata": {},
     "output_type": "display_data"
    }
   ],
   "execution_count": 40
  },
  {
   "cell_type": "code",
   "id": "1fa6a927656b2ba9",
   "metadata": {
    "ExecuteTime": {
     "end_time": "2024-12-16T14:52:25.580590Z",
     "start_time": "2024-12-16T14:52:25.576089Z"
    }
   },
   "source": [
    "model_2_results"
   ],
   "outputs": [
    {
     "data": {
      "text/plain": [
       "{'model_name': 'FashionMNISTModelV2',\n",
       " 'model_loss': 0.3246704041957855,\n",
       " 'model_acc': 88.30870607028754}"
      ]
     },
     "execution_count": 41,
     "metadata": {},
     "output_type": "execute_result"
    }
   ],
   "execution_count": 41
  },
  {
   "cell_type": "markdown",
   "id": "519e17e3ef7b86a9",
   "metadata": {},
   "source": [
    "# 8. Compare model results and training times"
   ]
  },
  {
   "cell_type": "code",
   "id": "7e9424689f317465",
   "metadata": {
    "ExecuteTime": {
     "end_time": "2024-12-16T14:52:26.442139Z",
     "start_time": "2024-12-16T14:52:25.581601Z"
    }
   },
   "source": [
    "import pandas as pd\n",
    "compare_results = pd.DataFrame([model_0_results,model_1_results,model_2_results])\n",
    "\n",
    "compare_results"
   ],
   "outputs": [
    {
     "data": {
      "text/plain": [
       "            model_name  model_loss  model_acc\n",
       "0  FashionMNISTmodelV0    0.476639  83.426518\n",
       "1  FashionMNISTModelV1    0.495337  82.677716\n",
       "2  FashionMNISTModelV2    0.324670  88.308706"
      ],
      "text/html": [
       "<div>\n",
       "<style scoped>\n",
       "    .dataframe tbody tr th:only-of-type {\n",
       "        vertical-align: middle;\n",
       "    }\n",
       "\n",
       "    .dataframe tbody tr th {\n",
       "        vertical-align: top;\n",
       "    }\n",
       "\n",
       "    .dataframe thead th {\n",
       "        text-align: right;\n",
       "    }\n",
       "</style>\n",
       "<table border=\"1\" class=\"dataframe\">\n",
       "  <thead>\n",
       "    <tr style=\"text-align: right;\">\n",
       "      <th></th>\n",
       "      <th>model_name</th>\n",
       "      <th>model_loss</th>\n",
       "      <th>model_acc</th>\n",
       "    </tr>\n",
       "  </thead>\n",
       "  <tbody>\n",
       "    <tr>\n",
       "      <th>0</th>\n",
       "      <td>FashionMNISTmodelV0</td>\n",
       "      <td>0.476639</td>\n",
       "      <td>83.426518</td>\n",
       "    </tr>\n",
       "    <tr>\n",
       "      <th>1</th>\n",
       "      <td>FashionMNISTModelV1</td>\n",
       "      <td>0.495337</td>\n",
       "      <td>82.677716</td>\n",
       "    </tr>\n",
       "    <tr>\n",
       "      <th>2</th>\n",
       "      <td>FashionMNISTModelV2</td>\n",
       "      <td>0.324670</td>\n",
       "      <td>88.308706</td>\n",
       "    </tr>\n",
       "  </tbody>\n",
       "</table>\n",
       "</div>"
      ]
     },
     "execution_count": 42,
     "metadata": {},
     "output_type": "execute_result"
    }
   ],
   "execution_count": 42
  },
  {
   "cell_type": "code",
   "id": "a372332298e91c92",
   "metadata": {
    "ExecuteTime": {
     "end_time": "2024-12-16T14:52:26.451607Z",
     "start_time": "2024-12-16T14:52:26.443145Z"
    }
   },
   "source": [
    "# Add training times to results comparison\n",
    "compare_results[\"training_time\"] = [total_train_time_model_0,\n",
    "                                    total_train_time_model_1,\n",
    "                                    total_train_time_model_2]\n",
    "compare_results"
   ],
   "outputs": [
    {
     "data": {
      "text/plain": [
       "            model_name  model_loss  model_acc  training_time\n",
       "0  FashionMNISTmodelV0    0.476639  83.426518      27.238929\n",
       "1  FashionMNISTModelV1    0.495337  82.677716      32.623271\n",
       "2  FashionMNISTModelV2    0.324670  88.308706      43.714886"
      ],
      "text/html": [
       "<div>\n",
       "<style scoped>\n",
       "    .dataframe tbody tr th:only-of-type {\n",
       "        vertical-align: middle;\n",
       "    }\n",
       "\n",
       "    .dataframe tbody tr th {\n",
       "        vertical-align: top;\n",
       "    }\n",
       "\n",
       "    .dataframe thead th {\n",
       "        text-align: right;\n",
       "    }\n",
       "</style>\n",
       "<table border=\"1\" class=\"dataframe\">\n",
       "  <thead>\n",
       "    <tr style=\"text-align: right;\">\n",
       "      <th></th>\n",
       "      <th>model_name</th>\n",
       "      <th>model_loss</th>\n",
       "      <th>model_acc</th>\n",
       "      <th>training_time</th>\n",
       "    </tr>\n",
       "  </thead>\n",
       "  <tbody>\n",
       "    <tr>\n",
       "      <th>0</th>\n",
       "      <td>FashionMNISTmodelV0</td>\n",
       "      <td>0.476639</td>\n",
       "      <td>83.426518</td>\n",
       "      <td>27.238929</td>\n",
       "    </tr>\n",
       "    <tr>\n",
       "      <th>1</th>\n",
       "      <td>FashionMNISTModelV1</td>\n",
       "      <td>0.495337</td>\n",
       "      <td>82.677716</td>\n",
       "      <td>32.623271</td>\n",
       "    </tr>\n",
       "    <tr>\n",
       "      <th>2</th>\n",
       "      <td>FashionMNISTModelV2</td>\n",
       "      <td>0.324670</td>\n",
       "      <td>88.308706</td>\n",
       "      <td>43.714886</td>\n",
       "    </tr>\n",
       "  </tbody>\n",
       "</table>\n",
       "</div>"
      ]
     },
     "execution_count": 43,
     "metadata": {},
     "output_type": "execute_result"
    }
   ],
   "execution_count": 43
  },
  {
   "cell_type": "code",
   "id": "bf3281f819a4abfc",
   "metadata": {
    "ExecuteTime": {
     "end_time": "2024-12-16T14:52:26.631560Z",
     "start_time": "2024-12-16T14:52:26.452615Z"
    }
   },
   "source": [
    "# Visualize the comparison\n",
    "compare_results.set_index('model_name')['model_acc'].plot(kind='barh')\n",
    "plt.xlabel('accuracy(%)')\n",
    "plt.ylabel('model')"
   ],
   "outputs": [
    {
     "data": {
      "text/plain": [
       "Text(0, 0.5, 'model')"
      ]
     },
     "execution_count": 44,
     "metadata": {},
     "output_type": "execute_result"
    },
    {
     "data": {
      "text/plain": [
       "<Figure size 640x480 with 1 Axes>"
      ],
      "image/png": "[encoded data removed]"
     },
     "metadata": {},
     "output_type": "display_data"
    }
   ],
   "execution_count": 44
  },
  {
   "cell_type": "markdown",
   "id": "e64ccb97cab3808d",
   "metadata": {},
   "source": [
    "# 9. Make and evaluate random prediction with the best model"
   ]
  },
  {
   "cell_type": "code",
   "id": "8ee4f0056b5bf8c5",
   "metadata": {
    "ExecuteTime": {
     "end_time": "2024-12-16T14:52:26.637334Z",
     "start_time": "2024-12-16T14:52:26.632572Z"
    }
   },
   "source": [
    "def make_predictions(model:nn.Module,\n",
    "                     data: list,\n",
    "                     device: torch.device=device):\n",
    "    pred_probs = []\n",
    "    model.to(device)\n",
    "    model.eval()\n",
    "    with torch.inference_mode():\n",
    "        for sample in data:\n",
    "            sample = torch.unsqueeze(sample, dim=0).to(device)\n",
    "            \n",
    "            pred_logit = model(sample)\n",
    "            pred_prob = torch.softmax(pred_logit.squeeze(),dim=0)\n",
    "            \n",
    "            # Get pred_prob off the GPU for further calculations\n",
    "            pred_probs.append(pred_prob.cpu())\n",
    "    return torch.stack(pred_probs)"
   ],
   "outputs": [],
   "execution_count": 45
  },
  {
   "cell_type": "code",
   "id": "7e22ebb07f177c7f",
   "metadata": {
    "ExecuteTime": {
     "end_time": "2024-12-16T14:52:27.686853Z",
     "start_time": "2024-12-16T14:52:26.638342Z"
    }
   },
   "source": [
    "import random\n",
    "random.seed(RANDOM_SEED)\n",
    "\n",
    "test_samples = []\n",
    "test_labels = []\n",
    "\n",
    "for sample, label in random.sample(list(test_data), k=9):\n",
    "    test_samples.append(sample)\n",
    "    test_labels.append(label)"
   ],
   "outputs": [],
   "execution_count": 46
  },
  {
   "cell_type": "code",
   "id": "2cc1afcc6acdc136",
   "metadata": {
    "ExecuteTime": {
     "end_time": "2024-12-16T14:52:27.811925Z",
     "start_time": "2024-12-16T14:52:27.688869Z"
    }
   },
   "source": [
    "# plot an example\n",
    "plt.imshow(test_samples[0].squeeze(),cmap='gray')\n",
    "plt.title(class_names[test_labels[0]])"
   ],
   "outputs": [
    {
     "data": {
      "text/plain": [
       "Text(0.5, 1.0, 'Sandal')"
      ]
     },
     "execution_count": 47,
     "metadata": {},
     "output_type": "execute_result"
    },
    {
     "data": {
      "text/plain": [
       "<Figure size 640x480 with 1 Axes>"
      ],
      "image/png": "[encoded data removed]"
     },
     "metadata": {},
     "output_type": "display_data"
    }
   ],
   "execution_count": 47
  },
  {
   "cell_type": "code",
   "id": "f819833f9df39efb",
   "metadata": {
    "ExecuteTime": {
     "end_time": "2024-12-16T14:52:27.831578Z",
     "start_time": "2024-12-16T14:52:27.812932Z"
    }
   },
   "source": [
    "# Make predictions\n",
    "pred_probs = make_predictions(model=model_2,\n",
    "                              data=test_samples)\n",
    "\n",
    "# View first two predictions\n",
    "pred_classes = pred_probs.argmax(dim=1)\n",
    "pred_classes[:10]"
   ],
   "outputs": [
    {
     "data": {
      "text/plain": [
       "tensor([5, 1, 7, 4, 3, 0, 4, 7, 1])"
      ]
     },
     "execution_count": 48,
     "metadata": {},
     "output_type": "execute_result"
    }
   ],
   "execution_count": 48
  },
  {
   "cell_type": "code",
   "id": "ca1b23dcbfa95aac",
   "metadata": {
    "ExecuteTime": {
     "end_time": "2024-12-16T14:52:28.196402Z",
     "start_time": "2024-12-16T14:52:27.832586Z"
    }
   },
   "source": [
    "# plot predictions\n",
    "plt.figure(figsize=(9,9))\n",
    "nrows, ncols = 3, 3\n",
    "for i, sample in enumerate(test_samples):\n",
    "    # Create subplot \n",
    "    plt.subplot(nrows,ncols,i+1)\n",
    "    # plot the image\n",
    "    plt.imshow(sample.squeeze(),cmap='gray')\n",
    "    # Find the prediction\n",
    "    pred_label = class_names[pred_classes[i]]\n",
    "    # Get the truth label\n",
    "    truth_label = class_names[test_labels[i]]\n",
    "    # Create a title for plot\n",
    "    title_text = f'Pred: {pred_label} | Truth: {truth_label}'\n",
    "    # Check for equality between pred and truth and change the color of title\n",
    "    if pred_label == truth_label:\n",
    "        plt.title(title_text, fontsize=9 , c='g')\n",
    "    else:\n",
    "        plt.title(title_text, fontsize=9, c='r')\n",
    "    plt.axis(False)\n",
    "    "
   ],
   "outputs": [
    {
     "data": {
      "text/plain": [
       "<Figure size 900x900 with 9 Axes>"
      ],
      "image/png": "[encoded data removed]"
     },
     "metadata": {},
     "output_type": "display_data"
    }
   ],
   "execution_count": 49
  },
  {
   "metadata": {},
   "cell_type": "markdown",
   "source": [
    "# 10. Make a confusion matrix for further prediction evaluation\n",
    "A confusion matrix is a way of evaluating classification models visually\n",
    "1. Make predictions with our train model on the test dataset\n",
    "2. Make a confusion matrix `torchmetrics.ConfusionMatrix`\n",
    "3. Plot the confusion matrix using `mlxtend.plotting.plot_confusion_matrix()`"
   ],
   "id": "49fb60be263ca162"
  },
  {
   "metadata": {
    "ExecuteTime": {
     "end_time": "2024-12-16T14:52:28.209399Z",
     "start_time": "2024-12-16T14:52:28.198428Z"
    }
   },
   "cell_type": "code",
   "source": [
    "import mlxtend\n",
    "mlxtend.__version__"
   ],
   "id": "2df75994e289cb4f",
   "outputs": [
    {
     "data": {
      "text/plain": [
       "'0.23.3'"
      ]
     },
     "execution_count": 50,
     "metadata": {},
     "output_type": "execute_result"
    }
   ],
   "execution_count": 50
  },
  {
   "metadata": {
    "ExecuteTime": {
     "end_time": "2024-12-16T14:52:30.203283Z",
     "start_time": "2024-12-16T14:52:28.210410Z"
    }
   },
   "cell_type": "code",
   "source": [
    "\n",
    "# 1. Make predictions with trained model\n",
    "y_preds = []\n",
    "model_2.eval()\n",
    "with torch.inference_mode():\n",
    "    for image, label in test_dataloader:\n",
    "        image, label = image.to(device), label.to(device)\n",
    "        y_logit = model_2(image)\n",
    "        y_pred = torch.softmax(y_logit.squeeze(),dim=0).argmax(dim=1)\n",
    "        y_preds.append(y_pred.cpu())"
   ],
   "id": "68137defcb909f84",
   "outputs": [],
   "execution_count": 51
  },
  {
   "metadata": {
    "ExecuteTime": {
     "end_time": "2024-12-16T14:52:32.730865Z",
     "start_time": "2024-12-16T14:52:30.204796Z"
    }
   },
   "cell_type": "code",
   "source": [
    "from torchmetrics import ConfusionMatrix\n",
    "from mlxtend.plotting import plot_confusion_matrix\n",
    "\n",
    "# Concatenate list of predictions into a tensor\n",
    "y_pred_tensor = torch.cat(y_preds)\n",
    "\n",
    "# 2. Setup confusion instance and compare predictions to target\n",
    "confmat = ConfusionMatrix(num_classes=len(class_names),task='multiclass')\n",
    "confmat_tensor = confmat(preds=y_pred_tensor,\n",
    "                         target=test_data.targets)\n",
    "confmat_tensor"
   ],
   "id": "cafe21a43ee0ddbe",
   "outputs": [
    {
     "data": {
      "text/plain": [
       "tensor([[679,   4,  45,  58,   8,   0, 199,   0,   7,   0],\n",
       "        [  6, 885,  13,  76,  10,   1,   5,   0,   3,   1],\n",
       "        [  7,   1, 790,  10,  99,   0,  86,   0,   7,   0],\n",
       "        [ 32,  12,  29, 832,  43,   0,  47,   0,   3,   2],\n",
       "        [  6,   4,  92,  42, 742,   0, 111,   0,   3,   0],\n",
       "        [  6,   4,   2,   9,   2, 836,   4,  52,  65,  20],\n",
       "        [ 90,   4, 107,  54,  87,   0, 646,   0,  12,   0],\n",
       "        [  1,   1,   0,   1,   0,  30,   0, 890,  14,  63],\n",
       "        [ 13,   3,  19,  13,  11,   4,  33,   6, 897,   1],\n",
       "        [  0,   0,   2,   2,   0,  15,   3,  76,   5, 897]])"
      ]
     },
     "execution_count": 52,
     "metadata": {},
     "output_type": "execute_result"
    }
   ],
   "execution_count": 52
  },
  {
   "metadata": {
    "ExecuteTime": {
     "end_time": "2024-12-16T14:52:33.022677Z",
     "start_time": "2024-12-16T14:52:32.731872Z"
    }
   },
   "cell_type": "code",
   "source": [
    "# 3.Plot the confusion matrix\n",
    "fig, ax = plot_confusion_matrix(conf_mat=confmat_tensor.numpy(),\n",
    "                                class_names=class_names,\n",
    "                                figsize=(9,9))"
   ],
   "id": "17592b135cd0e52f",
   "outputs": [
    {
     "data": {
      "text/plain": [
       "<Figure size 900x900 with 1 Axes>"
      ],
      "image/png": "[encoded data removed]"
     },
     "metadata": {},
     "output_type": "display_data"
    }
   ],
   "execution_count": 53
  },
  {
   "metadata": {},
   "cell_type": "markdown",
   "source": "# 11. Save and load model_2",
   "id": "9676b1b2c25877c8"
  },
  {
   "metadata": {
    "ExecuteTime": {
     "end_time": "2024-12-16T14:55:12.462026Z",
     "start_time": "2024-12-16T14:55:12.454618Z"
    }
   },
   "cell_type": "code",
   "source": [
    "from pathlib import Path\n",
    "\n",
    "# Create model directory path\n",
    "MODEL_PATH = Path(\"models\")\n",
    "MODEL_PATH.mkdir(parents=True,exist_ok=True)\n",
    "\n",
    "# Create model save\n",
    "MODEL_NAME = '03_pytorch_computer_vision_model_2.pth'\n",
    "MODEL_SAVE_PATH = MODEL_PATH/MODEL_NAME\n",
    "\n",
    "MODEL_SAVE_PATH"
   ],
   "id": "d41bb5a9b722380d",
   "outputs": [
    {
     "data": {
      "text/plain": [
       "WindowsPath('models/03_pytorch_computer_vision_model_2.pth')"
      ]
     },
     "execution_count": 55,
     "metadata": {},
     "output_type": "execute_result"
    }
   ],
   "execution_count": 55
  },
  {
   "metadata": {
    "ExecuteTime": {
     "end_time": "2024-12-16T14:57:06.380246Z",
     "start_time": "2024-12-16T14:57:06.363559Z"
    }
   },
   "cell_type": "code",
   "source": [
    "# Save the model state_dict\n",
    "print(f'Saving model to: {MODEL_SAVE_PATH}')\n",
    "torch.save(obj=model_2.state_dict(),\n",
    "           f=MODEL_SAVE_PATH\n",
    "           )"
   ],
   "id": "9bc0eab846a5856d",
   "outputs": [
    {
     "name": "stdout",
     "output_type": "stream",
     "text": [
      "Saving model to: models\\03_pytorch_computer_vision_model_2.pth\n"
     ]
    }
   ],
   "execution_count": 56
  },
  {
   "metadata": {
    "ExecuteTime": {
     "end_time": "2024-12-16T15:01:02.867516Z",
     "start_time": "2024-12-16T15:01:02.851342Z"
    }
   },
   "cell_type": "code",
   "source": [
    "# Load the model_2\n",
    "loaded_model_2 = FashionMNISTModelV2(input_shape=1,\n",
    "                                     hidden_units=10,\n",
    "                                     output_shape=len(class_names)\n",
    "                                     )\n",
    "\n",
    "# Load in the save state_dict()\n",
    "loaded_model_2.load_state_dict(torch.load(f=MODEL_SAVE_PATH, weights_only=True))\n",
    "\n",
    "# Send loaded_model_2 to target device\n",
    "loaded_model_2.to(device)\n"
   ],
   "id": "509e215d0feda306",
   "outputs": [
    {
     "data": {
      "text/plain": [
       "FashionMNISTModelV2(\n",
       "  (conv_block_1): Sequential(\n",
       "    (0): Conv2d(1, 10, kernel_size=(3, 3), stride=(1, 1), padding=(1, 1))\n",
       "    (1): ReLU()\n",
       "    (2): Conv2d(10, 10, kernel_size=(3, 3), stride=(1, 1), padding=(1, 1))\n",
       "    (3): ReLU()\n",
       "    (4): MaxPool2d(kernel_size=2, stride=2, padding=0, dilation=1, ceil_mode=False)\n",
       "  )\n",
       "  (conv_block_2): Sequential(\n",
       "    (0): Conv2d(10, 10, kernel_size=(3, 3), stride=(1, 1), padding=(1, 1))\n",
       "    (1): ReLU()\n",
       "    (2): Conv2d(10, 10, kernel_size=(3, 3), stride=(1, 1), padding=(1, 1))\n",
       "    (3): ReLU()\n",
       "    (4): MaxPool2d(kernel_size=2, stride=2, padding=0, dilation=1, ceil_mode=False)\n",
       "  )\n",
       "  (classifier): Sequential(\n",
       "    (0): Flatten(start_dim=1, end_dim=-1)\n",
       "    (1): Linear(in_features=490, out_features=10, bias=True)\n",
       "  )\n",
       ")"
      ]
     },
     "execution_count": 59,
     "metadata": {},
     "output_type": "execute_result"
    }
   ],
   "execution_count": 59
  },
  {
   "metadata": {
    "ExecuteTime": {
     "end_time": "2024-12-16T15:04:04.887938Z",
     "start_time": "2024-12-16T15:04:02.965588Z"
    }
   },
   "cell_type": "code",
   "source": [
    "# Evaluate loaded_model_2\n",
    "torch.manual_seed(RANDOM_SEED)\n",
    "torch.cuda.manual_seed(RANDOM_SEED)\n",
    "loaded_model_2_result = eval_model(model=loaded_model_2,\n",
    "                                   data_loader=test_dataloader,\n",
    "                                   loss_fn=loss_fn,\n",
    "                                   accuracy_fn=accuracy_fn,\n",
    "                                   device=device\n",
    "                                   )"
   ],
   "id": "47fb6b2d0806691b",
   "outputs": [
    {
     "data": {
      "text/plain": [
       "  0%|          | 0/313 [00:00<?, ?it/s]"
      ],
      "application/vnd.jupyter.widget-view+json": {
       "version_major": 2,
       "version_minor": 0,
       "model_id": "52997ccb92444964b8e3e46de32024d5"
      }
     },
     "metadata": {},
     "output_type": "display_data"
    }
   ],
   "execution_count": 62
  },
  {
   "metadata": {
    "ExecuteTime": {
     "end_time": "2024-12-16T15:04:06.049763Z",
     "start_time": "2024-12-16T15:04:06.044986Z"
    }
   },
   "cell_type": "code",
   "source": "loaded_model_2_result",
   "id": "ec79b60e806b684c",
   "outputs": [
    {
     "data": {
      "text/plain": [
       "{'model_name': 'FashionMNISTModelV2',\n",
       " 'model_loss': 0.3246704041957855,\n",
       " 'model_acc': 88.30870607028754}"
      ]
     },
     "execution_count": 63,
     "metadata": {},
     "output_type": "execute_result"
    }
   ],
   "execution_count": 63
  },
  {
   "metadata": {
    "ExecuteTime": {
     "end_time": "2024-12-16T15:05:21.706717Z",
     "start_time": "2024-12-16T15:05:21.697783Z"
    }
   },
   "cell_type": "code",
   "source": [
    "compare_models = pd.DataFrame([model_2_results,loaded_model_2_result])\n",
    "compare_models"
   ],
   "id": "3045bb3a7db1685e",
   "outputs": [
    {
     "data": {
      "text/plain": [
       "            model_name  model_loss  model_acc\n",
       "0  FashionMNISTModelV2     0.32467  88.308706\n",
       "1  FashionMNISTModelV2     0.32467  88.308706"
      ],
      "text/html": [
       "<div>\n",
       "<style scoped>\n",
       "    .dataframe tbody tr th:only-of-type {\n",
       "        vertical-align: middle;\n",
       "    }\n",
       "\n",
       "    .dataframe tbody tr th {\n",
       "        vertical-align: top;\n",
       "    }\n",
       "\n",
       "    .dataframe thead th {\n",
       "        text-align: right;\n",
       "    }\n",
       "</style>\n",
       "<table border=\"1\" class=\"dataframe\">\n",
       "  <thead>\n",
       "    <tr style=\"text-align: right;\">\n",
       "      <th></th>\n",
       "      <th>model_name</th>\n",
       "      <th>model_loss</th>\n",
       "      <th>model_acc</th>\n",
       "    </tr>\n",
       "  </thead>\n",
       "  <tbody>\n",
       "    <tr>\n",
       "      <th>0</th>\n",
       "      <td>FashionMNISTModelV2</td>\n",
       "      <td>0.32467</td>\n",
       "      <td>88.308706</td>\n",
       "    </tr>\n",
       "    <tr>\n",
       "      <th>1</th>\n",
       "      <td>FashionMNISTModelV2</td>\n",
       "      <td>0.32467</td>\n",
       "      <td>88.308706</td>\n",
       "    </tr>\n",
       "  </tbody>\n",
       "</table>\n",
       "</div>"
      ]
     },
     "execution_count": 66,
     "metadata": {},
     "output_type": "execute_result"
    }
   ],
   "execution_count": 66
  },
  {
   "metadata": {
    "ExecuteTime": {
     "end_time": "2024-12-16T15:08:32.665133Z",
     "start_time": "2024-12-16T15:08:32.651385Z"
    }
   },
   "cell_type": "code",
   "source": [
    "# Check if model results are close to each other\n",
    "torch.isclose(input=torch.tensor(model_2_results['model_loss']),\n",
    "              other=torch.tensor(loaded_model_2_result['model_loss']))"
   ],
   "id": "4aaab63d8303a948",
   "outputs": [
    {
     "data": {
      "text/plain": [
       "tensor(True)"
      ]
     },
     "execution_count": 67,
     "metadata": {},
     "output_type": "execute_result"
    }
   ],
   "execution_count": 67
  }
 ],
 "metadata": {
  "kernelspec": {
   "display_name": "Python 3 (ipykernel)",
   "language": "python",
   "name": "python3"
  },
  "language_info": {
   "codemirror_mode": {
    "name": "ipython",
    "version": 3
   },
   "file_extension": ".py",
   "mimetype": "text/x-python",
   "name": "python",
   "nbconvert_exporter": "python",
   "pygments_lexer": "ipython3",
   "version": "3.11.10"
  },
  "widgets": {
   "application/vnd.jupyter.widget-state+json": {
    "state": {},
    "version_major": 2,
    "version_minor": 0
   }
  }
 },
 "nbformat": 4,
 "nbformat_minor": 5
}
