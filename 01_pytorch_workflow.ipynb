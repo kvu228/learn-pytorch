{
 "cells": [
  {
   "cell_type": "markdown",
   "id": "6b09925b-1ef3-4d28-ab51-6e9c2a958fca",
   "metadata": {
    "ExecuteTime": {
     "end_time": "2024-11-17T11:19:15.935956Z",
     "start_time": "2024-11-17T11:19:15.928825Z"
    },
    "collapsed": true,
    "jupyter": {
     "outputs_hidden": true
    }
   },
   "source": [
    "The essence of machine learning and deep learning is to take *data from the past*, build an algorithm to *discover the pattern* in it to *predict the future* "
   ]
  },
  {
   "cell_type": "markdown",
   "id": "61c38257-c02f-4ff9-b4ca-5fd9f1fe778b",
   "metadata": {},
   "source": "![basic pytorch workflow](./docs/images/01-pytorch-workflow/01_a_pytorch_workflow.png \"Pytorhc workflow\")"
  },
  {
   "metadata": {},
   "cell_type": "markdown",
   "source": "# 1. Data (preparing and loading)\n",
   "id": "241e66a7a1e0eaea"
  },
  {
   "metadata": {},
   "cell_type": "markdown",
   "source": "We start by importing libraries we need",
   "id": "fb4d7827a3123a33"
  },
  {
   "metadata": {
    "ExecuteTime": {
     "end_time": "2024-11-20T17:11:08.874950Z",
     "start_time": "2024-11-20T17:11:06.627849Z"
    }
   },
   "cell_type": "code",
   "source": [
    "# Import pytorch and matplotlib\n",
    "import torch\n",
    "from torch import nn\n",
    "import matplotlib.pyplot as plt\n",
    "\n",
    "# Check pytorch version\n",
    "torch.__version__\n"
   ],
   "id": "9adac08fde704646",
   "outputs": [
    {
     "data": {
      "text/plain": [
       "'2.5.1+cu124'"
      ]
     },
     "execution_count": 2,
     "metadata": {},
     "output_type": "execute_result"
    }
   ],
   "execution_count": 2
  },
  {
   "metadata": {},
   "cell_type": "markdown",
   "source": "Making device agnostic",
   "id": "283b9a5ccda2b9e1"
  },
  {
   "metadata": {
    "ExecuteTime": {
     "end_time": "2024-11-20T17:11:09.463329Z",
     "start_time": "2024-11-20T17:11:08.875959Z"
    }
   },
   "cell_type": "code",
   "source": [
    "# Setup device agnostic code\n",
    "device = 'cuda' if torch.cuda.is_available() else 'cpu'\n",
    "print(f'Using device: {device}')"
   ],
   "id": "a845046c6a4522dc",
   "outputs": [
    {
     "name": "stdout",
     "output_type": "stream",
     "text": [
      "Using device: cuda\n"
     ]
    }
   ],
   "execution_count": 3
  },
  {
   "metadata": {
    "ExecuteTime": {
     "end_time": "2024-11-20T17:11:09.475328Z",
     "start_time": "2024-11-20T17:11:09.464336Z"
    }
   },
   "cell_type": "code",
   "source": [
    "# Create *known* parameters\n",
    "weight = 0.7\n",
    "bias = 0.3\n",
    "\n",
    "# Create range value\n",
    "start = 0\n",
    "end = 1\n",
    "step = 0.02\n",
    "\n",
    "# Create X (features) and y (labels)\n",
    "X = torch.arange(start,end,step).unsqueeze(dim=1)\n",
    "y = weight * X + bias\n",
    "for i in range(10):\n",
    "    print(f'X = {X[i]} ~ y ={y[i]}')"
   ],
   "id": "4e2aaa86504af1d2",
   "outputs": [
    {
     "name": "stdout",
     "output_type": "stream",
     "text": [
      "X = tensor([0.]) ~ y =tensor([0.3000])\n",
      "X = tensor([0.0200]) ~ y =tensor([0.3140])\n",
      "X = tensor([0.0400]) ~ y =tensor([0.3280])\n",
      "X = tensor([0.0600]) ~ y =tensor([0.3420])\n",
      "X = tensor([0.0800]) ~ y =tensor([0.3560])\n",
      "X = tensor([0.1000]) ~ y =tensor([0.3700])\n",
      "X = tensor([0.1200]) ~ y =tensor([0.3840])\n",
      "X = tensor([0.1400]) ~ y =tensor([0.3980])\n",
      "X = tensor([0.1600]) ~ y =tensor([0.4120])\n",
      "X = tensor([0.1800]) ~ y =tensor([0.4260])\n"
     ]
    }
   ],
   "execution_count": 4
  },
  {
   "metadata": {},
   "cell_type": "markdown",
   "source": "Now we split the data into training and test sets with ratio 80/20, 80% for training and 20% for testing",
   "id": "3b57170b9756e05"
  },
  {
   "metadata": {
    "ExecuteTime": {
     "end_time": "2024-11-20T17:11:09.480264Z",
     "start_time": "2024-11-20T17:11:09.476333Z"
    }
   },
   "cell_type": "code",
   "source": [
    "# Split data\n",
    "train_split = int(0.8 * len(X))\n",
    "X_train, y_train = X[:train_split], y[:train_split]\n",
    "X_test, y_test = X[train_split:], y[train_split:]\n",
    "\n",
    "print(f'Length of X_train: {len(X_train)}\\tLength of y_train: {len(y_train)}')\n",
    "print(f'Length of X_test: {len(X_test)}\\tLength of y_test: {len(y_test)}')"
   ],
   "id": "6bf1098c5755a154",
   "outputs": [
    {
     "name": "stdout",
     "output_type": "stream",
     "text": [
      "Length of X_train: 40\tLength of y_train: 40\n",
      "Length of X_test: 10\tLength of y_test: 10\n"
     ]
    }
   ],
   "execution_count": 5
  },
  {
   "metadata": {},
   "cell_type": "markdown",
   "source": "Let's visualize the data",
   "id": "aaa7a34d2b4f303c"
  },
  {
   "metadata": {
    "ExecuteTime": {
     "end_time": "2024-11-20T17:11:09.486568Z",
     "start_time": "2024-11-20T17:11:09.481269Z"
    }
   },
   "cell_type": "code",
   "source": [
    "from torch import Tensor\n",
    "\n",
    "def plot_predictions(train_data:Tensor,\n",
    "                     train_label:Tensor,\n",
    "                     test_data:Tensor,\n",
    "                     test_label:Tensor,\n",
    "                     predictions:Tensor=None,\n",
    "                     ):\n",
    "    \"\"\"\n",
    "    Plots training data, test data and compares prediction\n",
    "    \"\"\"\n",
    "    plt.figure(figsize=(10,7))\n",
    "    \n",
    "    # Plot training data in blue\n",
    "    plt.scatter(train_data,train_label,c='b', s=4, label='Training data')\n",
    "    \n",
    "    # Plot test data in green\n",
    "    plt.scatter(test_data, test_label,c='g', s=4, label='Test data')\n",
    "    \n",
    "    if predictions is not None:\n",
    "        # Plot the predictions in red\n",
    "        plt.scatter(test_data, predictions,c='r',s=4, label='Predictions')\n",
    "        \n",
    "    # Show the legend\n",
    "    plt.legend(prop={'size':14})"
   ],
   "id": "649562d1dfa829e9",
   "outputs": [],
   "execution_count": 6
  },
  {
   "metadata": {
    "ExecuteTime": {
     "end_time": "2024-11-20T17:11:09.635745Z",
     "start_time": "2024-11-20T17:11:09.487574Z"
    }
   },
   "cell_type": "code",
   "source": "plot_predictions(train_data=X_train, train_label=y_train, test_data=X_test, test_label=y_test)",
   "id": "219438d1206b6038",
   "outputs": [
    {
     "data": {
      "text/plain": [
       "<Figure size 1000x700 with 1 Axes>"
      ],
      "image/png": "[encoded data removed]"
     },
     "metadata": {},
     "output_type": "display_data"
    }
   ],
   "execution_count": 7
  },
  {
   "metadata": {},
   "cell_type": "markdown",
   "source": "# 2. Build model",
   "id": "2ad897c5d79d318a"
  },
  {
   "metadata": {},
   "cell_type": "markdown",
   "source": [
    "We'll create a model but instead of defining the weight and bias parameters of our model manually using `nn.Parameter()`, we'll use `nn.Linear(in_features, out_features)` to do it for us.\n",
    "* `in_feature` is the number of dimensions your input data has\n",
    "* `out_feature` is the number of dimension you'd like the output to be\n"
   ],
   "id": "2e9f997f1f7375fa"
  },
  {
   "metadata": {
    "ExecuteTime": {
     "end_time": "2024-11-20T17:11:09.644408Z",
     "start_time": "2024-11-20T17:11:09.635745Z"
    }
   },
   "cell_type": "code",
   "source": [
    "# Create a Linear Regression model class\n",
    "class LinearRegressionModel(nn.Module):\n",
    "    def __init__(self):\n",
    "        super().__init__()\n",
    "        # Use nn.Linear() for creating the model parameters\n",
    "        self.linear_layer = nn.Linear(in_features=1, out_features=1)\n",
    "        \n",
    "    # Define the forward computation\n",
    "    def forward(self, x: Tensor) -> Tensor:\n",
    "        return self.linear_layer(x)\n",
    "    \n",
    "# Set manual seed when creating the model\n",
    "torch.manual_seed(42)\n",
    "model_1 = LinearRegressionModel()\n",
    "model_1, model_1.state_dict()"
   ],
   "id": "517827b44d9d34c8",
   "outputs": [
    {
     "data": {
      "text/plain": [
       "(LinearRegressionModel(\n",
       "   (linear_layer): Linear(in_features=1, out_features=1, bias=True)\n",
       " ),\n",
       " OrderedDict([('linear_layer.weight', tensor([[0.7645]])),\n",
       "              ('linear_layer.bias', tensor([0.8300]))]))"
      ]
     },
     "execution_count": 8,
     "metadata": {},
     "output_type": "execute_result"
    }
   ],
   "execution_count": 8
  },
  {
   "metadata": {},
   "cell_type": "markdown",
   "source": "Since we run on `CUDA` device so let's put out model on the GPU",
   "id": "1b3654407468b8dd"
  },
  {
   "metadata": {
    "ExecuteTime": {
     "end_time": "2024-11-20T17:11:09.648579Z",
     "start_time": "2024-11-20T17:11:09.645415Z"
    }
   },
   "cell_type": "code",
   "source": [
    "# Check model device\n",
    "next(model_1.parameters()).device"
   ],
   "id": "1109bb62d43bfc61",
   "outputs": [
    {
     "data": {
      "text/plain": [
       "device(type='cpu')"
      ]
     },
     "execution_count": 9,
     "metadata": {},
     "output_type": "execute_result"
    }
   ],
   "execution_count": 9
  },
  {
   "metadata": {
    "ExecuteTime": {
     "end_time": "2024-11-20T17:11:10.148352Z",
     "start_time": "2024-11-20T17:11:09.648579Z"
    }
   },
   "cell_type": "code",
   "source": [
    "# Set model to GPU\n",
    "model_1.to(device)\n",
    "next(model_1.parameters()).device"
   ],
   "id": "d9753c897d36d5a2",
   "outputs": [
    {
     "data": {
      "text/plain": [
       "device(type='cuda', index=0)"
      ]
     },
     "execution_count": 10,
     "metadata": {},
     "output_type": "execute_result"
    }
   ],
   "execution_count": 10
  },
  {
   "metadata": {},
   "cell_type": "markdown",
   "source": "# 3. Training",
   "id": "d1369d2b31966fe7"
  },
  {
   "metadata": {},
   "cell_type": "markdown",
   "source": [
    "Before training, we have to define out **loss function** and our **optimizer**. In this example, we will use `nn.L1Loss()` and `torch.optim.SGD()`\n",
    "\n",
    "In optimizer, we have to pass `model.parameters()` for optimizer so it will adjust them during the training"
   ],
   "id": "13d2fcc49b069ccb"
  },
  {
   "metadata": {
    "ExecuteTime": {
     "end_time": "2024-11-20T17:11:11.065912Z",
     "start_time": "2024-11-20T17:11:10.149359Z"
    }
   },
   "cell_type": "code",
   "source": [
    "# Create loss function\n",
    "loss_fn = nn.L1Loss()\n",
    "\n",
    "# Create optimizer\n",
    "optimizer = torch.optim.SGD(\n",
    "    params=model_1.parameters(), lr=0.01\n",
    ")"
   ],
   "id": "e2e145b40d7fa1dc",
   "outputs": [],
   "execution_count": 11
  },
  {
   "metadata": {
    "ExecuteTime": {
     "end_time": "2024-11-20T17:11:12.286717Z",
     "start_time": "2024-11-20T17:11:11.066920Z"
    }
   },
   "cell_type": "code",
   "source": [
    "# Set the number of epochs\n",
    "epochs = 1000\n",
    "\n",
    "# Move our training set and test set to available device\n",
    "X_train_cuda = X_train.to(device)\n",
    "y_train_cuda = y_train.to(device)\n",
    "X_test_cuda = X_test.to(device)\n",
    "y_test_cuda = y_test.to(device)\n",
    "\n",
    "\n",
    "for epoch in range(epochs):\n",
    "    ### Training\n",
    "    model_1.train()\n",
    "    \n",
    "    # 1. Forward pass\n",
    "    y_pred = model_1(X_train_cuda)\n",
    "    \n",
    "    # 2. Calculate the loss\n",
    "    loss = loss_fn(y_pred, y_train_cuda)\n",
    "    \n",
    "    # 3. Zero grad optimizer\n",
    "    optimizer.zero_grad()\n",
    "    \n",
    "    # 4. Loss backward\n",
    "    loss.backward()\n",
    "    \n",
    "    # 5. Step the optimizer\n",
    "    optimizer.step()\n",
    "    \n",
    "    ### Testing\n",
    "    model_1.eval()\n",
    "    # 1. Forward pass\n",
    "    with torch.inference_mode():\n",
    "        test_pred = model_1(X_test_cuda)\n",
    "        \n",
    "        # 2. Calculate the loss\n",
    "        test_loss = loss_fn(test_pred,y_test_cuda)\n",
    "        \n",
    "    \n",
    "    if epoch%10 == 0:\n",
    "        print(f'Epoch: {epoch} |\\tTrain loss: {loss} |\\tTest loss: {test_loss} ')"
   ],
   "id": "e758142d68c2a4ea",
   "outputs": [
    {
     "name": "stdout",
     "output_type": "stream",
     "text": [
      "Epoch: 0 |\tTrain loss: 0.5551779866218567 |\tTest loss: 0.5739762187004089 \n",
      "Epoch: 10 |\tTrain loss: 0.439968079328537 |\tTest loss: 0.4392664134502411 \n",
      "Epoch: 20 |\tTrain loss: 0.3247582018375397 |\tTest loss: 0.30455657839775085 \n",
      "Epoch: 30 |\tTrain loss: 0.20954833924770355 |\tTest loss: 0.16984669864177704 \n",
      "Epoch: 40 |\tTrain loss: 0.09433845430612564 |\tTest loss: 0.03513690456748009 \n",
      "Epoch: 50 |\tTrain loss: 0.023886388167738914 |\tTest loss: 0.04784907028079033 \n",
      "Epoch: 60 |\tTrain loss: 0.019956795498728752 |\tTest loss: 0.045803118497133255 \n",
      "Epoch: 70 |\tTrain loss: 0.016517987474799156 |\tTest loss: 0.037530567497015 \n",
      "Epoch: 80 |\tTrain loss: 0.013089174404740334 |\tTest loss: 0.02994490973651409 \n",
      "Epoch: 90 |\tTrain loss: 0.009653178043663502 |\tTest loss: 0.02167237363755703 \n",
      "Epoch: 100 |\tTrain loss: 0.006215683650225401 |\tTest loss: 0.014086711220443249 \n",
      "Epoch: 110 |\tTrain loss: 0.00278724217787385 |\tTest loss: 0.005814164876937866 \n",
      "Epoch: 120 |\tTrain loss: 0.0012645035749301314 |\tTest loss: 0.013801801018416882 \n",
      "Epoch: 130 |\tTrain loss: 0.0012645035749301314 |\tTest loss: 0.013801801018416882 \n",
      "Epoch: 140 |\tTrain loss: 0.0012645035749301314 |\tTest loss: 0.013801801018416882 \n",
      "Epoch: 150 |\tTrain loss: 0.0012645035749301314 |\tTest loss: 0.013801801018416882 \n",
      "Epoch: 160 |\tTrain loss: 0.0012645035749301314 |\tTest loss: 0.013801801018416882 \n",
      "Epoch: 170 |\tTrain loss: 0.0012645035749301314 |\tTest loss: 0.013801801018416882 \n",
      "Epoch: 180 |\tTrain loss: 0.0012645035749301314 |\tTest loss: 0.013801801018416882 \n",
      "Epoch: 190 |\tTrain loss: 0.0012645035749301314 |\tTest loss: 0.013801801018416882 \n",
      "Epoch: 200 |\tTrain loss: 0.0012645035749301314 |\tTest loss: 0.013801801018416882 \n",
      "Epoch: 210 |\tTrain loss: 0.0012645035749301314 |\tTest loss: 0.013801801018416882 \n",
      "Epoch: 220 |\tTrain loss: 0.0012645035749301314 |\tTest loss: 0.013801801018416882 \n",
      "Epoch: 230 |\tTrain loss: 0.0012645035749301314 |\tTest loss: 0.013801801018416882 \n",
      "Epoch: 240 |\tTrain loss: 0.0012645035749301314 |\tTest loss: 0.013801801018416882 \n",
      "Epoch: 250 |\tTrain loss: 0.0012645035749301314 |\tTest loss: 0.013801801018416882 \n",
      "Epoch: 260 |\tTrain loss: 0.0012645035749301314 |\tTest loss: 0.013801801018416882 \n",
      "Epoch: 270 |\tTrain loss: 0.0012645035749301314 |\tTest loss: 0.013801801018416882 \n",
      "Epoch: 280 |\tTrain loss: 0.0012645035749301314 |\tTest loss: 0.013801801018416882 \n",
      "Epoch: 290 |\tTrain loss: 0.0012645035749301314 |\tTest loss: 0.013801801018416882 \n",
      "Epoch: 300 |\tTrain loss: 0.0012645035749301314 |\tTest loss: 0.013801801018416882 \n",
      "Epoch: 310 |\tTrain loss: 0.0012645035749301314 |\tTest loss: 0.013801801018416882 \n",
      "Epoch: 320 |\tTrain loss: 0.0012645035749301314 |\tTest loss: 0.013801801018416882 \n",
      "Epoch: 330 |\tTrain loss: 0.0012645035749301314 |\tTest loss: 0.013801801018416882 \n",
      "Epoch: 340 |\tTrain loss: 0.0012645035749301314 |\tTest loss: 0.013801801018416882 \n",
      "Epoch: 350 |\tTrain loss: 0.0012645035749301314 |\tTest loss: 0.013801801018416882 \n",
      "Epoch: 360 |\tTrain loss: 0.0012645035749301314 |\tTest loss: 0.013801801018416882 \n",
      "Epoch: 370 |\tTrain loss: 0.0012645035749301314 |\tTest loss: 0.013801801018416882 \n",
      "Epoch: 380 |\tTrain loss: 0.0012645035749301314 |\tTest loss: 0.013801801018416882 \n",
      "Epoch: 390 |\tTrain loss: 0.0012645035749301314 |\tTest loss: 0.013801801018416882 \n",
      "Epoch: 400 |\tTrain loss: 0.0012645035749301314 |\tTest loss: 0.013801801018416882 \n",
      "Epoch: 410 |\tTrain loss: 0.0012645035749301314 |\tTest loss: 0.013801801018416882 \n",
      "Epoch: 420 |\tTrain loss: 0.0012645035749301314 |\tTest loss: 0.013801801018416882 \n",
      "Epoch: 430 |\tTrain loss: 0.0012645035749301314 |\tTest loss: 0.013801801018416882 \n",
      "Epoch: 440 |\tTrain loss: 0.0012645035749301314 |\tTest loss: 0.013801801018416882 \n",
      "Epoch: 450 |\tTrain loss: 0.0012645035749301314 |\tTest loss: 0.013801801018416882 \n",
      "Epoch: 460 |\tTrain loss: 0.0012645035749301314 |\tTest loss: 0.013801801018416882 \n",
      "Epoch: 470 |\tTrain loss: 0.0012645035749301314 |\tTest loss: 0.013801801018416882 \n",
      "Epoch: 480 |\tTrain loss: 0.0012645035749301314 |\tTest loss: 0.013801801018416882 \n",
      "Epoch: 490 |\tTrain loss: 0.0012645035749301314 |\tTest loss: 0.013801801018416882 \n",
      "Epoch: 500 |\tTrain loss: 0.0012645035749301314 |\tTest loss: 0.013801801018416882 \n",
      "Epoch: 510 |\tTrain loss: 0.0012645035749301314 |\tTest loss: 0.013801801018416882 \n",
      "Epoch: 520 |\tTrain loss: 0.0012645035749301314 |\tTest loss: 0.013801801018416882 \n",
      "Epoch: 530 |\tTrain loss: 0.0012645035749301314 |\tTest loss: 0.013801801018416882 \n",
      "Epoch: 540 |\tTrain loss: 0.0012645035749301314 |\tTest loss: 0.013801801018416882 \n",
      "Epoch: 550 |\tTrain loss: 0.0012645035749301314 |\tTest loss: 0.013801801018416882 \n",
      "Epoch: 560 |\tTrain loss: 0.0012645035749301314 |\tTest loss: 0.013801801018416882 \n",
      "Epoch: 570 |\tTrain loss: 0.0012645035749301314 |\tTest loss: 0.013801801018416882 \n",
      "Epoch: 580 |\tTrain loss: 0.0012645035749301314 |\tTest loss: 0.013801801018416882 \n",
      "Epoch: 590 |\tTrain loss: 0.0012645035749301314 |\tTest loss: 0.013801801018416882 \n",
      "Epoch: 600 |\tTrain loss: 0.0012645035749301314 |\tTest loss: 0.013801801018416882 \n",
      "Epoch: 610 |\tTrain loss: 0.0012645035749301314 |\tTest loss: 0.013801801018416882 \n",
      "Epoch: 620 |\tTrain loss: 0.0012645035749301314 |\tTest loss: 0.013801801018416882 \n",
      "Epoch: 630 |\tTrain loss: 0.0012645035749301314 |\tTest loss: 0.013801801018416882 \n",
      "Epoch: 640 |\tTrain loss: 0.0012645035749301314 |\tTest loss: 0.013801801018416882 \n",
      "Epoch: 650 |\tTrain loss: 0.0012645035749301314 |\tTest loss: 0.013801801018416882 \n",
      "Epoch: 660 |\tTrain loss: 0.0012645035749301314 |\tTest loss: 0.013801801018416882 \n",
      "Epoch: 670 |\tTrain loss: 0.0012645035749301314 |\tTest loss: 0.013801801018416882 \n",
      "Epoch: 680 |\tTrain loss: 0.0012645035749301314 |\tTest loss: 0.013801801018416882 \n",
      "Epoch: 690 |\tTrain loss: 0.0012645035749301314 |\tTest loss: 0.013801801018416882 \n",
      "Epoch: 700 |\tTrain loss: 0.0012645035749301314 |\tTest loss: 0.013801801018416882 \n",
      "Epoch: 710 |\tTrain loss: 0.0012645035749301314 |\tTest loss: 0.013801801018416882 \n",
      "Epoch: 720 |\tTrain loss: 0.0012645035749301314 |\tTest loss: 0.013801801018416882 \n",
      "Epoch: 730 |\tTrain loss: 0.0012645035749301314 |\tTest loss: 0.013801801018416882 \n",
      "Epoch: 740 |\tTrain loss: 0.0012645035749301314 |\tTest loss: 0.013801801018416882 \n",
      "Epoch: 750 |\tTrain loss: 0.0012645035749301314 |\tTest loss: 0.013801801018416882 \n",
      "Epoch: 760 |\tTrain loss: 0.0012645035749301314 |\tTest loss: 0.013801801018416882 \n",
      "Epoch: 770 |\tTrain loss: 0.0012645035749301314 |\tTest loss: 0.013801801018416882 \n",
      "Epoch: 780 |\tTrain loss: 0.0012645035749301314 |\tTest loss: 0.013801801018416882 \n",
      "Epoch: 790 |\tTrain loss: 0.0012645035749301314 |\tTest loss: 0.013801801018416882 \n",
      "Epoch: 800 |\tTrain loss: 0.0012645035749301314 |\tTest loss: 0.013801801018416882 \n",
      "Epoch: 810 |\tTrain loss: 0.0012645035749301314 |\tTest loss: 0.013801801018416882 \n",
      "Epoch: 820 |\tTrain loss: 0.0012645035749301314 |\tTest loss: 0.013801801018416882 \n",
      "Epoch: 830 |\tTrain loss: 0.0012645035749301314 |\tTest loss: 0.013801801018416882 \n",
      "Epoch: 840 |\tTrain loss: 0.0012645035749301314 |\tTest loss: 0.013801801018416882 \n",
      "Epoch: 850 |\tTrain loss: 0.0012645035749301314 |\tTest loss: 0.013801801018416882 \n",
      "Epoch: 860 |\tTrain loss: 0.0012645035749301314 |\tTest loss: 0.013801801018416882 \n",
      "Epoch: 870 |\tTrain loss: 0.0012645035749301314 |\tTest loss: 0.013801801018416882 \n",
      "Epoch: 880 |\tTrain loss: 0.0012645035749301314 |\tTest loss: 0.013801801018416882 \n",
      "Epoch: 890 |\tTrain loss: 0.0012645035749301314 |\tTest loss: 0.013801801018416882 \n",
      "Epoch: 900 |\tTrain loss: 0.0012645035749301314 |\tTest loss: 0.013801801018416882 \n",
      "Epoch: 910 |\tTrain loss: 0.0012645035749301314 |\tTest loss: 0.013801801018416882 \n",
      "Epoch: 920 |\tTrain loss: 0.0012645035749301314 |\tTest loss: 0.013801801018416882 \n",
      "Epoch: 930 |\tTrain loss: 0.0012645035749301314 |\tTest loss: 0.013801801018416882 \n",
      "Epoch: 940 |\tTrain loss: 0.0012645035749301314 |\tTest loss: 0.013801801018416882 \n",
      "Epoch: 950 |\tTrain loss: 0.0012645035749301314 |\tTest loss: 0.013801801018416882 \n",
      "Epoch: 960 |\tTrain loss: 0.0012645035749301314 |\tTest loss: 0.013801801018416882 \n",
      "Epoch: 970 |\tTrain loss: 0.0012645035749301314 |\tTest loss: 0.013801801018416882 \n",
      "Epoch: 980 |\tTrain loss: 0.0012645035749301314 |\tTest loss: 0.013801801018416882 \n",
      "Epoch: 990 |\tTrain loss: 0.0012645035749301314 |\tTest loss: 0.013801801018416882 \n"
     ]
    }
   ],
   "execution_count": 12
  },
  {
   "metadata": {},
   "cell_type": "markdown",
   "source": "# 4. Make predictions",
   "id": "705106c74b210ba6"
  },
  {
   "metadata": {
    "ExecuteTime": {
     "end_time": "2024-11-20T17:11:12.467843Z",
     "start_time": "2024-11-20T17:11:12.287724Z"
    }
   },
   "cell_type": "code",
   "source": [
    "# Turn model into evalutation mode\n",
    "model_1.eval()\n",
    "\n",
    "# Make predictions on test data\n",
    "with torch.inference_mode():\n",
    "    y_preds_cuda = model_1(X_test_cuda)\n",
    "    \n",
    "for i in range(len(X_test_cuda)):\n",
    "    print(f'X = {X_test_cuda[i]} ~ y = {y_preds_cuda[i]}')"
   ],
   "id": "6213790da39a4e6f",
   "outputs": [
    {
     "name": "stdout",
     "output_type": "stream",
     "text": [
      "X = tensor([0.8000], device='cuda:0') ~ y = tensor([0.8600], device='cuda:0')\n",
      "X = tensor([0.8200], device='cuda:0') ~ y = tensor([0.8739], device='cuda:0')\n",
      "X = tensor([0.8400], device='cuda:0') ~ y = tensor([0.8878], device='cuda:0')\n",
      "X = tensor([0.8600], device='cuda:0') ~ y = tensor([0.9018], device='cuda:0')\n",
      "X = tensor([0.8800], device='cuda:0') ~ y = tensor([0.9157], device='cuda:0')\n",
      "X = tensor([0.9000], device='cuda:0') ~ y = tensor([0.9296], device='cuda:0')\n",
      "X = tensor([0.9200], device='cuda:0') ~ y = tensor([0.9436], device='cuda:0')\n",
      "X = tensor([0.9400], device='cuda:0') ~ y = tensor([0.9575], device='cuda:0')\n",
      "X = tensor([0.9600], device='cuda:0') ~ y = tensor([0.9714], device='cuda:0')\n",
      "X = tensor([0.9800], device='cuda:0') ~ y = tensor([0.9854], device='cuda:0')\n"
     ]
    }
   ],
   "execution_count": 13
  },
  {
   "metadata": {
    "ExecuteTime": {
     "end_time": "2024-11-20T17:11:12.617365Z",
     "start_time": "2024-11-20T17:11:12.468851Z"
    }
   },
   "cell_type": "code",
   "source": [
    "y_preds = y_preds_cuda.cpu()\n",
    "\n",
    "# plot predictions\n",
    "plot_predictions(\n",
    "    train_data=X_train,\n",
    "    train_label=y_train,\n",
    "    test_data=X_test,\n",
    "    test_label=y_test,\n",
    "    predictions=y_preds\n",
    ")"
   ],
   "id": "9dff8a1ccf05253a",
   "outputs": [
    {
     "data": {
      "text/plain": [
       "<Figure size 1000x700 with 1 Axes>"
      ],
      "image/png": "[encoded data removed]"
     },
     "metadata": {},
     "output_type": "display_data"
    }
   ],
   "execution_count": 14
  },
  {
   "metadata": {},
   "cell_type": "markdown",
   "source": "# 5. Saving and loading a model",
   "id": "acd0e58ce856c8a"
  },
  {
   "metadata": {
    "ExecuteTime": {
     "end_time": "2024-11-20T17:14:53.342721Z",
     "start_time": "2024-11-20T17:14:53.332529Z"
    }
   },
   "cell_type": "code",
   "source": [
    "from pathlib import Path\n",
    "\n",
    "# 1. Create models directory\n",
    "MODEL_PATH = Path('models')\n",
    "MODEL_PATH.mkdir(parents=True, exist_ok=True)\n",
    "\n",
    "# 2. Create model save path\n",
    "MODEL_NAME = '01_pytorch_workflow_model_1.pth'\n",
    "MODEL_SAVE_PATH = MODEL_PATH/MODEL_NAME\n",
    "\n",
    "# 3. Save the model state_dict\n",
    "print(f'Saving model to {MODEL_SAVE_PATH}')\n",
    "torch.save(obj=model_1.state_dict(),f=MODEL_SAVE_PATH)"
   ],
   "id": "608a80e0193390c9",
   "outputs": [
    {
     "name": "stdout",
     "output_type": "stream",
     "text": [
      "Saving model to models\\01_pytorch_workflow_model_1.pth\n"
     ]
    }
   ],
   "execution_count": 15
  },
  {
   "metadata": {},
   "cell_type": "markdown",
   "source": [
    "So we have save out model, let's try to load it back in.\n",
    "1. Create new instance of `LinearRegressionModel()` class\n",
    "2. Load in the model using `nn.Module.load_state_dict()`"
   ],
   "id": "85c2bc7f58dc36c5"
  },
  {
   "metadata": {
    "ExecuteTime": {
     "end_time": "2024-11-20T17:20:32.587923Z",
     "start_time": "2024-11-20T17:20:32.575460Z"
    }
   },
   "cell_type": "code",
   "source": [
    "# Create a new instance of LinearRegressionModel \n",
    "loaded_model_1 = LinearRegressionModel()\n",
    "\n",
    "# Load model state dict\n",
    "loaded_model_1.load_state_dict(torch.load(f=MODEL_SAVE_PATH))\n",
    "\n",
    "# Send model to available device\n",
    "loaded_model_1.to(device)\n",
    "\n",
    "# Evaluate loaded model\n",
    "loaded_model_1.eval()\n",
    "with torch.inference_mode():\n",
    "    loaded_model_1_preds_cuda = loaded_model_1(X_test_cuda)\n",
    "    \n",
    "loaded_model_1_preds_cuda == y_preds_cuda"
   ],
   "id": "58b33117e8c8316d",
   "outputs": [
    {
     "name": "stderr",
     "output_type": "stream",
     "text": [
      "C:\\Users\\KietVu\\AppData\\Local\\Temp\\ipykernel_27672\\915523248.py:5: FutureWarning: You are using `torch.load` with `weights_only=False` (the current default value), which uses the default pickle module implicitly. It is possible to construct malicious pickle data which will execute arbitrary code during unpickling (See https://github.com/pytorch/pytorch/blob/main/SECURITY.md#untrusted-models for more details). In a future release, the default value for `weights_only` will be flipped to `True`. This limits the functions that could be executed during unpickling. Arbitrary objects will no longer be allowed to be loaded via this mode unless they are explicitly allowlisted by the user via `torch.serialization.add_safe_globals`. We recommend you start setting `weights_only=True` for any use case where you don't have full control of the loaded file. Please open an issue on GitHub for any issues related to this experimental feature.\n",
      "  loaded_model_1.load_state_dict(torch.load(f=MODEL_SAVE_PATH))\n"
     ]
    },
    {
     "data": {
      "text/plain": [
       "tensor([[True],\n",
       "        [True],\n",
       "        [True],\n",
       "        [True],\n",
       "        [True],\n",
       "        [True],\n",
       "        [True],\n",
       "        [True],\n",
       "        [True],\n",
       "        [True]], device='cuda:0')"
      ]
     },
     "execution_count": 16,
     "metadata": {},
     "output_type": "execute_result"
    }
   ],
   "execution_count": 16
  }
 ],
 "metadata": {
  "kernelspec": {
   "display_name": "Python 3 (ipykernel)",
   "language": "python",
   "name": "python3"
  },
  "language_info": {
   "codemirror_mode": {
    "name": "ipython",
    "version": 3
   },
   "file_extension": ".py",
   "mimetype": "text/x-python",
   "name": "python",
   "nbconvert_exporter": "python",
   "pygments_lexer": "ipython3",
   "version": "3.11.10"
  }
 },
 "nbformat": 4,
 "nbformat_minor": 5
}
